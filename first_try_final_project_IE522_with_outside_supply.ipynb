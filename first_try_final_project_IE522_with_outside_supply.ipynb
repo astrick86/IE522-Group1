{
 "cells": [
  {
   "cell_type": "code",
   "execution_count": 1,
   "metadata": {},
   "outputs": [],
   "source": [
    "import pandas as pd\n",
    "import gurobipy as gp\n",
    "from gurobipy import GRB\n",
    "import numpy as np\n",
    "import gurobipy_pandas as gppd\n",
    "\n",
    "# set intercative mode\n",
    "gppd.set_interactive()"
   ]
  },
  {
   "cell_type": "code",
   "execution_count": 2,
   "metadata": {},
   "outputs": [],
   "source": [
    "# importing data\n",
    "hubs = pd.read_csv(r\"D:\\1. UTK PhD\\Fall 23\\IE 522\\Final Project\\OneDrive_1_12-5-2023\\TX_hubs.csv\")\n",
    "network = pd.read_csv(r\"D:\\1. UTK PhD\\Fall 23\\IE 522\\Final Project\\OneDrive_1_12-5-2023\\TX_network.csv\")\n",
    "plants = pd.read_csv(r\"D:\\1. UTK PhD\\Fall 23\\IE 522\\Final Project\\OneDrive_1_12-5-2023\\TX_plants.csv\")\n",
    "roads = pd.read_csv(r\"D:\\1. UTK PhD\\Fall 23\\IE 522\\Final Project\\OneDrive_1_12-5-2023\\TX_roads.csv\")\n",
    "suppliers = pd.read_csv(r\"D:\\1. UTK PhD\\Fall 23\\IE 522\\Final Project\\OneDrive_1_12-5-2023\\TX_suppliers.csv\")\n",
    "railroads = pd.read_csv(r\"D:\\1. UTK PhD\\Fall 23\\IE 522\\Final Project\\OneDrive_1_12-5-2023\\TX_railroads.csv\")"
   ]
  },
  {
   "cell_type": "code",
   "execution_count": 3,
   "metadata": {},
   "outputs": [
    {
     "data": {
      "text/html": [
       "<div>\n",
       "<style scoped>\n",
       "    .dataframe tbody tr th:only-of-type {\n",
       "        vertical-align: middle;\n",
       "    }\n",
       "\n",
       "    .dataframe tbody tr th {\n",
       "        vertical-align: top;\n",
       "    }\n",
       "\n",
       "    .dataframe thead th {\n",
       "        text-align: right;\n",
       "    }\n",
       "</style>\n",
       "<table border=\"1\" class=\"dataframe\">\n",
       "  <thead>\n",
       "    <tr style=\"text-align: right;\">\n",
       "      <th></th>\n",
       "      <th>index</th>\n",
       "      <th>latitude</th>\n",
       "      <th>longitude</th>\n",
       "      <th>invest</th>\n",
       "      <th>capacity</th>\n",
       "    </tr>\n",
       "    <tr>\n",
       "      <th>hub</th>\n",
       "      <th></th>\n",
       "      <th></th>\n",
       "      <th></th>\n",
       "      <th></th>\n",
       "      <th></th>\n",
       "    </tr>\n",
       "  </thead>\n",
       "  <tbody>\n",
       "    <tr>\n",
       "      <th>17201</th>\n",
       "      <td>1</td>\n",
       "      <td>33.64844</td>\n",
       "      <td>-95.56841</td>\n",
       "      <td>3476219</td>\n",
       "      <td>300000</td>\n",
       "    </tr>\n",
       "    <tr>\n",
       "      <th>17218</th>\n",
       "      <td>2</td>\n",
       "      <td>33.64124</td>\n",
       "      <td>-96.60666</td>\n",
       "      <td>3476219</td>\n",
       "      <td>300000</td>\n",
       "    </tr>\n",
       "    <tr>\n",
       "      <th>17359</th>\n",
       "      <td>3</td>\n",
       "      <td>29.31990</td>\n",
       "      <td>-96.10283</td>\n",
       "      <td>3476219</td>\n",
       "      <td>300000</td>\n",
       "    </tr>\n",
       "    <tr>\n",
       "      <th>17372</th>\n",
       "      <td>4</td>\n",
       "      <td>30.75623</td>\n",
       "      <td>-98.67770</td>\n",
       "      <td>3476219</td>\n",
       "      <td>300000</td>\n",
       "    </tr>\n",
       "    <tr>\n",
       "      <th>17395</th>\n",
       "      <td>5</td>\n",
       "      <td>30.84636</td>\n",
       "      <td>-96.98711</td>\n",
       "      <td>3476219</td>\n",
       "      <td>300000</td>\n",
       "    </tr>\n",
       "  </tbody>\n",
       "</table>\n",
       "</div>"
      ],
      "text/plain": [
       "       index  latitude  longitude   invest  capacity\n",
       "hub                                                 \n",
       "17201      1  33.64844  -95.56841  3476219    300000\n",
       "17218      2  33.64124  -96.60666  3476219    300000\n",
       "17359      3  29.31990  -96.10283  3476219    300000\n",
       "17372      4  30.75623  -98.67770  3476219    300000\n",
       "17395      5  30.84636  -96.98711  3476219    300000"
      ]
     },
     "execution_count": 3,
     "metadata": {},
     "output_type": "execute_result"
    }
   ],
   "source": [
    "hubs.set_index('hub', inplace=True)\n",
    "hubs.head()"
   ]
  },
  {
   "cell_type": "code",
   "execution_count": 4,
   "metadata": {},
   "outputs": [
    {
     "data": {
      "text/html": [
       "<div>\n",
       "<style scoped>\n",
       "    .dataframe tbody tr th:only-of-type {\n",
       "        vertical-align: middle;\n",
       "    }\n",
       "\n",
       "    .dataframe tbody tr th {\n",
       "        vertical-align: top;\n",
       "    }\n",
       "\n",
       "    .dataframe thead th {\n",
       "        text-align: right;\n",
       "    }\n",
       "</style>\n",
       "<table border=\"1\" class=\"dataframe\">\n",
       "  <thead>\n",
       "    <tr style=\"text-align: right;\">\n",
       "      <th></th>\n",
       "      <th>counties</th>\n",
       "      <th>hubs</th>\n",
       "      <th>plants</th>\n",
       "      <th>techs</th>\n",
       "      <th>demand</th>\n",
       "    </tr>\n",
       "  </thead>\n",
       "  <tbody>\n",
       "    <tr>\n",
       "      <th>0</th>\n",
       "      <td>254</td>\n",
       "      <td>33</td>\n",
       "      <td>167</td>\n",
       "      <td>1</td>\n",
       "      <td>1476310602</td>\n",
       "    </tr>\n",
       "  </tbody>\n",
       "</table>\n",
       "</div>"
      ],
      "text/plain": [
       "   counties  hubs  plants  techs      demand\n",
       "0       254    33     167      1  1476310602"
      ]
     },
     "execution_count": 4,
     "metadata": {},
     "output_type": "execute_result"
    }
   ],
   "source": [
    "network.head()"
   ]
  },
  {
   "cell_type": "code",
   "execution_count": 5,
   "metadata": {},
   "outputs": [
    {
     "data": {
      "text/html": [
       "<div>\n",
       "<style scoped>\n",
       "    .dataframe tbody tr th:only-of-type {\n",
       "        vertical-align: middle;\n",
       "    }\n",
       "\n",
       "    .dataframe tbody tr th {\n",
       "        vertical-align: top;\n",
       "    }\n",
       "\n",
       "    .dataframe thead th {\n",
       "        text-align: right;\n",
       "    }\n",
       "</style>\n",
       "<table border=\"1\" class=\"dataframe\">\n",
       "  <thead>\n",
       "    <tr style=\"text-align: right;\">\n",
       "      <th></th>\n",
       "      <th>index</th>\n",
       "      <th>latitude</th>\n",
       "      <th>longitude</th>\n",
       "      <th>tech</th>\n",
       "      <th>invest</th>\n",
       "      <th>capacity</th>\n",
       "      <th>yield</th>\n",
       "    </tr>\n",
       "    <tr>\n",
       "      <th>plant</th>\n",
       "      <th></th>\n",
       "      <th></th>\n",
       "      <th></th>\n",
       "      <th></th>\n",
       "      <th></th>\n",
       "      <th></th>\n",
       "      <th></th>\n",
       "    </tr>\n",
       "  </thead>\n",
       "  <tbody>\n",
       "    <tr>\n",
       "      <th>541</th>\n",
       "      <td>1</td>\n",
       "      <td>30.220353</td>\n",
       "      <td>-97.740436</td>\n",
       "      <td>1</td>\n",
       "      <td>130956797</td>\n",
       "      <td>152063705</td>\n",
       "      <td>232</td>\n",
       "    </tr>\n",
       "    <tr>\n",
       "      <th>542</th>\n",
       "      <td>2</td>\n",
       "      <td>29.676724</td>\n",
       "      <td>-98.635234</td>\n",
       "      <td>1</td>\n",
       "      <td>130956797</td>\n",
       "      <td>152063705</td>\n",
       "      <td>232</td>\n",
       "    </tr>\n",
       "    <tr>\n",
       "      <th>543</th>\n",
       "      <td>3</td>\n",
       "      <td>33.760315</td>\n",
       "      <td>-96.559867</td>\n",
       "      <td>1</td>\n",
       "      <td>130956797</td>\n",
       "      <td>152063705</td>\n",
       "      <td>232</td>\n",
       "    </tr>\n",
       "    <tr>\n",
       "      <th>544</th>\n",
       "      <td>4</td>\n",
       "      <td>29.531920</td>\n",
       "      <td>-98.286901</td>\n",
       "      <td>1</td>\n",
       "      <td>130956797</td>\n",
       "      <td>152063705</td>\n",
       "      <td>232</td>\n",
       "    </tr>\n",
       "    <tr>\n",
       "      <th>545</th>\n",
       "      <td>5</td>\n",
       "      <td>29.688568</td>\n",
       "      <td>-98.562424</td>\n",
       "      <td>1</td>\n",
       "      <td>130956797</td>\n",
       "      <td>152063705</td>\n",
       "      <td>232</td>\n",
       "    </tr>\n",
       "  </tbody>\n",
       "</table>\n",
       "</div>"
      ],
      "text/plain": [
       "       index   latitude  longitude  tech     invest   capacity  yield\n",
       "plant                                                                \n",
       "541        1  30.220353 -97.740436     1  130956797  152063705    232\n",
       "542        2  29.676724 -98.635234     1  130956797  152063705    232\n",
       "543        3  33.760315 -96.559867     1  130956797  152063705    232\n",
       "544        4  29.531920 -98.286901     1  130956797  152063705    232\n",
       "545        5  29.688568 -98.562424     1  130956797  152063705    232"
      ]
     },
     "execution_count": 5,
     "metadata": {},
     "output_type": "execute_result"
    }
   ],
   "source": [
    "plants.set_index('plant', inplace=True)\n",
    "plants.head()"
   ]
  },
  {
   "cell_type": "code",
   "execution_count": 6,
   "metadata": {},
   "outputs": [
    {
     "data": {
      "text/html": [
       "<div>\n",
       "<style scoped>\n",
       "    .dataframe tbody tr th:only-of-type {\n",
       "        vertical-align: middle;\n",
       "    }\n",
       "\n",
       "    .dataframe tbody tr th {\n",
       "        vertical-align: top;\n",
       "    }\n",
       "\n",
       "    .dataframe thead th {\n",
       "        text-align: right;\n",
       "    }\n",
       "</style>\n",
       "<table border=\"1\" class=\"dataframe\">\n",
       "  <thead>\n",
       "    <tr style=\"text-align: right;\">\n",
       "      <th></th>\n",
       "      <th></th>\n",
       "      <th>index</th>\n",
       "      <th>distance</th>\n",
       "      <th>cost</th>\n",
       "    </tr>\n",
       "    <tr>\n",
       "      <th>county</th>\n",
       "      <th>hub</th>\n",
       "      <th></th>\n",
       "      <th></th>\n",
       "      <th></th>\n",
       "    </tr>\n",
       "  </thead>\n",
       "  <tbody>\n",
       "    <tr>\n",
       "      <th rowspan=\"5\" valign=\"top\">48001</th>\n",
       "      <th>17201</th>\n",
       "      <td>1</td>\n",
       "      <td>219.6090</td>\n",
       "      <td>40.580691</td>\n",
       "    </tr>\n",
       "    <tr>\n",
       "      <th>17218</th>\n",
       "      <td>2</td>\n",
       "      <td>264.7658</td>\n",
       "      <td>47.661277</td>\n",
       "    </tr>\n",
       "    <tr>\n",
       "      <th>17359</th>\n",
       "      <td>3</td>\n",
       "      <td>370.6750</td>\n",
       "      <td>64.267840</td>\n",
       "    </tr>\n",
       "    <tr>\n",
       "      <th>17372</th>\n",
       "      <td>4</td>\n",
       "      <td>420.0082</td>\n",
       "      <td>72.003286</td>\n",
       "    </tr>\n",
       "    <tr>\n",
       "      <th>17395</th>\n",
       "      <td>5</td>\n",
       "      <td>199.2915</td>\n",
       "      <td>37.394907</td>\n",
       "    </tr>\n",
       "  </tbody>\n",
       "</table>\n",
       "</div>"
      ],
      "text/plain": [
       "              index  distance       cost\n",
       "county hub                              \n",
       "48001  17201      1  219.6090  40.580691\n",
       "       17218      2  264.7658  47.661277\n",
       "       17359      3  370.6750  64.267840\n",
       "       17372      4  420.0082  72.003286\n",
       "       17395      5  199.2915  37.394907"
      ]
     },
     "execution_count": 6,
     "metadata": {},
     "output_type": "execute_result"
    }
   ],
   "source": [
    "roads.set_index(['county','hub'], inplace=True)\n",
    "roads.head()"
   ]
  },
  {
   "cell_type": "code",
   "execution_count": 7,
   "metadata": {},
   "outputs": [
    {
     "data": {
      "text/plain": [
       "0.1783104491604194"
      ]
     },
     "execution_count": 7,
     "metadata": {},
     "output_type": "execute_result"
    }
   ],
   "source": [
    "(roads['cost']/roads['distance']).mean()"
   ]
  },
  {
   "cell_type": "code",
   "execution_count": 8,
   "metadata": {},
   "outputs": [
    {
     "data": {
      "text/html": [
       "<div>\n",
       "<style scoped>\n",
       "    .dataframe tbody tr th:only-of-type {\n",
       "        vertical-align: middle;\n",
       "    }\n",
       "\n",
       "    .dataframe tbody tr th {\n",
       "        vertical-align: top;\n",
       "    }\n",
       "\n",
       "    .dataframe thead th {\n",
       "        text-align: right;\n",
       "    }\n",
       "</style>\n",
       "<table border=\"1\" class=\"dataframe\">\n",
       "  <thead>\n",
       "    <tr style=\"text-align: right;\">\n",
       "      <th></th>\n",
       "      <th>index</th>\n",
       "      <th>supply</th>\n",
       "    </tr>\n",
       "    <tr>\n",
       "      <th>county</th>\n",
       "      <th></th>\n",
       "      <th></th>\n",
       "    </tr>\n",
       "  </thead>\n",
       "  <tbody>\n",
       "    <tr>\n",
       "      <th>48001</th>\n",
       "      <td>1.0</td>\n",
       "      <td>13131.971710</td>\n",
       "    </tr>\n",
       "    <tr>\n",
       "      <th>48003</th>\n",
       "      <td>2.0</td>\n",
       "      <td>1177.351950</td>\n",
       "    </tr>\n",
       "    <tr>\n",
       "      <th>48005</th>\n",
       "      <td>3.0</td>\n",
       "      <td>3854.618542</td>\n",
       "    </tr>\n",
       "    <tr>\n",
       "      <th>48007</th>\n",
       "      <td>4.0</td>\n",
       "      <td>308.182629</td>\n",
       "    </tr>\n",
       "    <tr>\n",
       "      <th>48009</th>\n",
       "      <td>5.0</td>\n",
       "      <td>19802.136510</td>\n",
       "    </tr>\n",
       "  </tbody>\n",
       "</table>\n",
       "</div>"
      ],
      "text/plain": [
       "        index        supply\n",
       "county                     \n",
       "48001     1.0  13131.971710\n",
       "48003     2.0   1177.351950\n",
       "48005     3.0   3854.618542\n",
       "48007     4.0    308.182629\n",
       "48009     5.0  19802.136510"
      ]
     },
     "execution_count": 8,
     "metadata": {},
     "output_type": "execute_result"
    }
   ],
   "source": [
    "# cleaning dataset by removing NA values\n",
    "suppliers.dropna(inplace=True)\n",
    "suppliers.county = suppliers.county.astype(int)\n",
    "suppliers.set_index('county',inplace=True)\n",
    "suppliers.head()"
   ]
  },
  {
   "cell_type": "code",
   "execution_count": 9,
   "metadata": {},
   "outputs": [
    {
     "data": {
      "text/plain": [
       "0    0.479834\n",
       "Name: demand, dtype: float64"
      ]
     },
     "execution_count": 9,
     "metadata": {},
     "output_type": "execute_result"
    }
   ],
   "source": [
    "suppliers['supply'].sum()*232/network['demand']"
   ]
  },
  {
   "cell_type": "code",
   "execution_count": 10,
   "metadata": {},
   "outputs": [
    {
     "data": {
      "text/html": [
       "<div>\n",
       "<style scoped>\n",
       "    .dataframe tbody tr th:only-of-type {\n",
       "        vertical-align: middle;\n",
       "    }\n",
       "\n",
       "    .dataframe tbody tr th {\n",
       "        vertical-align: top;\n",
       "    }\n",
       "\n",
       "    .dataframe thead th {\n",
       "        text-align: right;\n",
       "    }\n",
       "</style>\n",
       "<table border=\"1\" class=\"dataframe\">\n",
       "  <thead>\n",
       "    <tr style=\"text-align: right;\">\n",
       "      <th></th>\n",
       "      <th></th>\n",
       "      <th>index</th>\n",
       "      <th>distance</th>\n",
       "      <th>cost</th>\n",
       "      <th>loading</th>\n",
       "      <th>capacity</th>\n",
       "    </tr>\n",
       "    <tr>\n",
       "      <th>hub</th>\n",
       "      <th>plant</th>\n",
       "      <th></th>\n",
       "      <th></th>\n",
       "      <th></th>\n",
       "      <th></th>\n",
       "      <th></th>\n",
       "    </tr>\n",
       "  </thead>\n",
       "  <tbody>\n",
       "    <tr>\n",
       "      <th rowspan=\"5\" valign=\"top\">17201</th>\n",
       "      <th>541</th>\n",
       "      <td>1</td>\n",
       "      <td>922.023251</td>\n",
       "      <td>17.095711</td>\n",
       "      <td>3066792</td>\n",
       "      <td>338000</td>\n",
       "    </tr>\n",
       "    <tr>\n",
       "      <th>542</th>\n",
       "      <td>2</td>\n",
       "      <td>1160.842967</td>\n",
       "      <td>20.923752</td>\n",
       "      <td>3066792</td>\n",
       "      <td>338000</td>\n",
       "    </tr>\n",
       "    <tr>\n",
       "      <th>543</th>\n",
       "      <td>3</td>\n",
       "      <td>186.924258</td>\n",
       "      <td>5.312809</td>\n",
       "      <td>3066792</td>\n",
       "      <td>338000</td>\n",
       "    </tr>\n",
       "    <tr>\n",
       "      <th>544</th>\n",
       "      <td>4</td>\n",
       "      <td>1074.699073</td>\n",
       "      <td>19.542951</td>\n",
       "      <td>3066792</td>\n",
       "      <td>338000</td>\n",
       "    </tr>\n",
       "    <tr>\n",
       "      <th>545</th>\n",
       "      <td>5</td>\n",
       "      <td>1160.842967</td>\n",
       "      <td>20.923752</td>\n",
       "      <td>3066792</td>\n",
       "      <td>338000</td>\n",
       "    </tr>\n",
       "  </tbody>\n",
       "</table>\n",
       "</div>"
      ],
      "text/plain": [
       "             index     distance       cost  loading  capacity\n",
       "hub   plant                                                  \n",
       "17201 541        1   922.023251  17.095711  3066792    338000\n",
       "      542        2  1160.842967  20.923752  3066792    338000\n",
       "      543        3   186.924258   5.312809  3066792    338000\n",
       "      544        4  1074.699073  19.542951  3066792    338000\n",
       "      545        5  1160.842967  20.923752  3066792    338000"
      ]
     },
     "execution_count": 10,
     "metadata": {},
     "output_type": "execute_result"
    }
   ],
   "source": [
    "railroads.set_index(['hub','plant'], inplace=True)\n",
    "railroads.head()"
   ]
  },
  {
   "cell_type": "code",
   "execution_count": 11,
   "metadata": {},
   "outputs": [
    {
     "data": {
      "text/plain": [
       "0.02091824870583491"
      ]
     },
     "execution_count": 11,
     "metadata": {},
     "output_type": "execute_result"
    }
   ],
   "source": [
    "(railroads['cost']/railroads['distance']).mean()"
   ]
  },
  {
   "cell_type": "code",
   "execution_count": 12,
   "metadata": {},
   "outputs": [
    {
     "name": "stdout",
     "output_type": "stream",
     "text": [
      "Set parameter Username\n",
      "Academic license - for non-commercial use only - expires 2024-04-17\n"
     ]
    }
   ],
   "source": [
    "# create gurobi model\n",
    "m = gp.Model()"
   ]
  },
  {
   "cell_type": "code",
   "execution_count": 13,
   "metadata": {},
   "outputs": [],
   "source": [
    "### Variables\n",
    "yhub = gppd.add_vars(m, hubs, name='yhub', vtype=GRB.BINARY, lb=0)\n",
    "yplant = gppd.add_vars(m, plants, name='yplant', vtype=GRB.BINARY, lb=0)\n",
    "ytruck = gppd.add_vars(m, roads, name='ytruck', vtype=GRB.BINARY, lb=0)\n",
    "ytrain = gppd.add_vars(m, railroads, name='ytrain', vtype=GRB.BINARY, lb=0)\n",
    "\n",
    "c_to_h = gppd.add_vars(m, roads, name='c_to_h', vtype=GRB.CONTINUOUS, lb=0) # Flow from county to hub\n",
    "h_to_p = gppd.add_vars(m, railroads, name='h_to_p', vtype=GRB.CONTINUOUS, lb=0) # Flow from hub to plant\n",
    "\n",
    "x_out = m.addVar(vtype=GRB.CONTINUOUS, name='outside_supply', lb=0) #biofuel supply from outside\n"
   ]
  },
  {
   "cell_type": "code",
   "execution_count": 14,
   "metadata": {},
   "outputs": [],
   "source": [
    "# y_third_party = gppd.add_vars(m, name='y_third_party', vtype=GRB.BINARY)                                    )"
   ]
  },
  {
   "cell_type": "code",
   "execution_count": 15,
   "metadata": {},
   "outputs": [],
   "source": [
    "### parameters\n",
    "\"\"\"\n",
    "demand = network['demand]\n",
    "yield = plants['yield']\n",
    "cplant = plants['invest']\n",
    "chub = hubs['invest']\n",
    "\"\"\"\n",
    "M = 500000\n",
    "# fuel costfrom external source\n",
    "c_out = 1.5"
   ]
  },
  {
   "cell_type": "code",
   "execution_count": 16,
   "metadata": {},
   "outputs": [],
   "source": [
    "### Objective\n",
    "# divide by 1000 to ease up computation\n",
    "m.setObjective(((plants['invest']*0.001 * yplant).sum() + (hubs['invest']*0.001 * yhub).sum() + (c_to_h * roads['cost'] * 0.001).sum() \\\n",
    "               + (ytrain * railroads['loading'] * 0.001).sum() + (h_to_p * railroads['cost'] * 0.001).sum() + c_out*x_out*0.001), \n",
    "               GRB.MINIMIZE)"
   ]
  },
  {
   "cell_type": "code",
   "execution_count": 17,
   "metadata": {},
   "outputs": [],
   "source": [
    "### Highest possible demand that can be met by the network\n",
    "#m.setObjective((yplant * plants['yield'] * h_to_p.groupby('plant').sum()).sum(), GRB.MAXIMIZE)"
   ]
  },
  {
   "cell_type": "code",
   "execution_count": 18,
   "metadata": {},
   "outputs": [],
   "source": [
    "### Constraints\n",
    "# if only unmet demands fulfilled by third-party\n",
    "# third_party_supply = gppd.add_constrs(m,\n",
    "#                                     x_out,\n",
    "#                                     GRB.LESS_EQUAL,\n",
    "#                                     network['demand'] - (h_to_p.groupby('plant').sum()).sum(),\n",
    "#                                     name='third_party_supply'\n",
    "# )"
   ]
  },
  {
   "cell_type": "code",
   "execution_count": 19,
   "metadata": {},
   "outputs": [],
   "source": [
    "# flow conservation through hub\n",
    "flow_hub = gppd.add_constrs(m,\n",
    "                            c_to_h.groupby('hub').sum(),\n",
    "                            GRB.EQUAL,\n",
    "                            h_to_p.groupby('hub').sum(),\n",
    "                            name='hub_flow'\n",
    "                            )"
   ]
  },
  {
   "cell_type": "code",
   "execution_count": 20,
   "metadata": {},
   "outputs": [],
   "source": [
    "# hub capacity\n",
    "cap_hub = gppd.add_constrs(m,\n",
    "                           c_to_h.groupby('hub').sum(),\n",
    "                           GRB.LESS_EQUAL,\n",
    "                           hubs['capacity']*yhub,\n",
    "                           name='hub_capacity'\n",
    "                           )"
   ]
  },
  {
   "cell_type": "code",
   "execution_count": 21,
   "metadata": {},
   "outputs": [],
   "source": [
    "# train capacity\n",
    "cap_train = gppd.add_constrs(m,\n",
    "                           h_to_p,\n",
    "                           GRB.LESS_EQUAL,\n",
    "                           railroads['capacity']*ytrain,\n",
    "                           name='train_capacity'\n",
    "                           )"
   ]
  },
  {
   "cell_type": "code",
   "execution_count": 22,
   "metadata": {},
   "outputs": [],
   "source": [
    "# supplier (county) capacity\n",
    "cap_county = gppd.add_constrs(m,\n",
    "                           (c_to_h).groupby('county').sum(),\n",
    "                           GRB.LESS_EQUAL,\n",
    "                           suppliers['supply'],\n",
    "                           name='suppliers_supply'\n",
    "                           )"
   ]
  },
  {
   "cell_type": "code",
   "execution_count": 23,
   "metadata": {},
   "outputs": [],
   "source": [
    "# delivery by truck\n",
    "truck_delivery = gppd.add_constrs(m,\n",
    "                           c_to_h,\n",
    "                           GRB.LESS_EQUAL,\n",
    "                           M*ytruck,\n",
    "                           name='truck_binary'\n",
    "                           )\n",
    "\n",
    "# delivery by train\n",
    "train_delivery = gppd.add_constrs(m,\n",
    "                           h_to_p,\n",
    "                           GRB.LESS_EQUAL,\n",
    "                           M*ytrain,\n",
    "                           name='train_binary'\n",
    "                           )"
   ]
  },
  {
   "cell_type": "code",
   "execution_count": 24,
   "metadata": {},
   "outputs": [],
   "source": [
    "# plant capacity\n",
    "cap_plant = gppd.add_constrs(m,\n",
    "                            h_to_p.groupby('plant').sum(),\n",
    "                            GRB.LESS_EQUAL,\n",
    "                            (plants['capacity']/plants['yield'])*yplant,\n",
    "                            name='plant_capacity'\n",
    "                            )"
   ]
  },
  {
   "cell_type": "code",
   "execution_count": 25,
   "metadata": {},
   "outputs": [],
   "source": [
    "# demand\n",
    "demand_constraint = gppd.add_constrs(m,\n",
    "                                     (x_out/232) + (h_to_p.groupby('plant').sum()).sum(),\n",
    "                                     GRB.GREATER_EQUAL,\n",
    "                                     network['demand']/232,\n",
    "                                     name='network_demand'\n",
    "                                     )"
   ]
  },
  {
   "cell_type": "code",
   "execution_count": 26,
   "metadata": {},
   "outputs": [],
   "source": [
    "# write the model\n",
    "m.write(\"supply_chain_biofuel_with_outside_supply.lp\")"
   ]
  },
  {
   "cell_type": "code",
   "execution_count": 27,
   "metadata": {},
   "outputs": [
    {
     "name": "stdout",
     "output_type": "stream",
     "text": [
      "Set parameter MIPGap to value 0.02\n",
      "Set parameter ScaleFlag to value 1\n",
      "Set parameter MIPFocus to value 3\n",
      "Set parameter BranchDir to value -1\n",
      "Set parameter Cuts to value 3\n",
      "Set parameter NumericFocus to value 1\n",
      "Gurobi Optimizer version 10.0.1 build v10.0.1rc0 (win64)\n",
      "\n",
      "CPU model: 12th Gen Intel(R) Core(TM) i7-12700H, instruction set [SSE2|AVX|AVX2]\n",
      "Thread count: 14 physical cores, 20 logical processors, using up to 20 threads\n",
      "\n",
      "Optimize a model with 19892 rows, 27987 columns and 80688 nonzeros\n",
      "Model fingerprint: 0x8d3c7a91\n",
      "Variable types: 13894 continuous, 14093 integer (14093 binary)\n",
      "Coefficient statistics:\n",
      "  Matrix range     [4e-03, 7e+05]\n",
      "  Objective range  [2e-03, 1e+05]\n",
      "  Bounds range     [1e+00, 1e+00]\n",
      "  RHS range        [8e-01, 6e+06]\n",
      "Found heuristic solution: objective 2214465.9030\n",
      "Presolve removed 13899 rows and 8580 columns\n",
      "Presolve time: 0.07s\n",
      "Presolved: 5993 rows, 19407 columns, 52308 nonzeros\n",
      "Variable types: 13696 continuous, 5711 integer (5711 binary)\n",
      "Root relaxation presolve removed 5511 rows and 5511 columns\n",
      "Root relaxation presolved: 482 rows, 13896 columns, 41286 nonzeros\n",
      "\n",
      "\n",
      "Root relaxation: objective 1.908050e+06, 693 iterations, 0.04 seconds (0.04 work units)\n",
      "\n",
      "    Nodes    |    Current Node    |     Objective Bounds      |     Work\n",
      " Expl Unexpl |  Obj  Depth IntInf | Incumbent    BestBd   Gap | It/Node Time\n",
      "\n",
      "     0     0 1908049.71    0   82 2214465.90 1908049.71  13.8%     -    0s\n",
      "H    0     0                    2166241.3935 1908049.71  11.9%     -    0s\n",
      "H    0     0                    2057417.8824 1917871.38  6.78%     -    0s\n",
      "     0     0 1917871.38    0   89 2057417.88 1917871.38  6.78%     -    0s\n",
      "     0     0 1919435.37    0   89 2057417.88 1919435.37  6.71%     -    0s\n",
      "     0     0 1919532.16    0   91 2057417.88 1919532.16  6.70%     -    0s\n",
      "     0     0 1922189.28    0   90 2057417.88 1922189.28  6.57%     -    1s\n",
      "     0     0 1922797.09    0   99 2057417.88 1922797.09  6.54%     -    1s\n",
      "     0     0 1923122.59    0  106 2057417.88 1923122.59  6.53%     -    2s\n",
      "     0     0 1923165.11    0  102 2057417.88 1923165.11  6.53%     -    2s\n",
      "     0     0 1923176.29    0  102 2057417.88 1923176.29  6.52%     -    2s\n",
      "     0     0 1923176.46    0  113 2057417.88 1923176.46  6.52%     -    2s\n",
      "H    0     0                    2032610.2401 1924169.01  5.34%     -    3s\n",
      "H    0     0                    1989575.0266 1924169.01  3.29%     -    3s\n",
      "     0     0 1924169.01    0  108 1989575.03 1924169.01  3.29%     -    3s\n",
      "     0     0 1925004.68    0  112 1989575.03 1925004.68  3.25%     -    4s\n",
      "H    0     0                    1984833.1817 1925369.83  3.00%     -    4s\n",
      "     0     0 1925369.83    0  119 1984833.18 1925369.83  3.00%     -    4s\n",
      "     0     0 1925617.86    0  117 1984833.18 1925617.86  2.98%     -    4s\n",
      "     0     0 1925764.82    0  113 1984833.18 1925764.82  2.98%     -    5s\n",
      "     0     0 1925819.36    0  111 1984833.18 1925819.36  2.97%     -    5s\n",
      "     0     0 1925836.87    0  111 1984833.18 1925836.87  2.97%     -    5s\n",
      "     0     0 1925843.68    0  113 1984833.18 1925843.68  2.97%     -    5s\n",
      "     0     0 1926138.75    0  103 1984833.18 1926138.75  2.96%     -    6s\n",
      "H    0     0                    1982456.3986 1926323.42  2.83%     -    7s\n",
      "     0     0 1926323.42    0  110 1982456.40 1926323.42  2.83%     -    7s\n",
      "     0     0 1926373.94    0   98 1982456.40 1926373.94  2.83%     -    7s\n",
      "     0     0 1926385.90    0  105 1982456.40 1926385.90  2.83%     -    7s\n",
      "H    0     0                    1976621.1285 1926558.94  2.53%     -    9s\n",
      "     0     0 1926558.94    0  108 1976621.13 1926558.94  2.53%     -    9s\n",
      "     0     0 1926633.14    0   94 1976621.13 1926633.14  2.53%     -   10s\n",
      "     0     0 1926648.21    0  108 1976621.13 1926648.21  2.53%     -   10s\n",
      "     0     0 1926832.22    0  106 1976621.13 1926832.22  2.52%     -   12s\n",
      "     0     0 1926905.31    0  105 1976621.13 1926905.31  2.52%     -   14s\n",
      "     0     0 1926928.95    0  111 1976621.13 1926928.95  2.51%     -   14s\n",
      "     0     0 1926935.30    0  108 1976621.13 1926935.30  2.51%     -   14s\n",
      "     0     0 1927064.24    0  107 1976621.13 1927064.24  2.51%     -   15s\n",
      "H    0     0                    1975092.3672 1927093.36  2.43%     -   18s\n",
      "     0     0 1927093.36    0  128 1975092.37 1927093.36  2.43%     -   18s\n",
      "     0     0 1927102.13    0  117 1975092.37 1927102.13  2.43%     -   18s\n",
      "     0     0 1927145.24    0  118 1975092.37 1927145.24  2.43%     -   20s\n",
      "     0     0 1927145.24    0  118 1975092.37 1927145.24  2.43%     -   21s\n",
      "H    0     0                    1974269.9675 1927145.24  2.39%     -   22s\n",
      "     0     2 1927145.24    0  118 1974269.97 1927145.24  2.39%     -   22s\n",
      "    15    30 1927515.55    4  110 1974269.97 1927446.95  2.37%   893   25s\n",
      "H   71    86                    1972064.9530 1927718.10  2.25%   866   54s\n",
      "H   72    86                    1971641.3799 1927718.13  2.23%   875   54s\n",
      "H   73    86                    1970396.8831 1927738.01  2.16%   867   54s\n",
      "H   74    86                    1970108.7684 1927738.01  2.15%   860   54s\n",
      "H   83    86                    1969951.7754 1927738.01  2.14%   876   54s\n",
      "    85   106 1927738.01    9  102 1969951.78 1927738.01  2.14%   870   57s\n",
      "   124   144 1930268.30   12   70 1969951.78 1927755.12  2.14%   854   60s\n",
      "   189   215 1930364.40   19   68 1969951.78 1927783.02  2.14%   859   65s\n",
      "   326   475 1928263.31   29   47 1969951.78 1927860.53  2.14%   675   72s\n",
      "   474   684 1927940.08   32   72 1969951.78 1927889.46  2.14%   551   76s\n",
      "   683  1174 1928311.01   28   51 1969951.78 1927921.95  2.13%   449   81s\n",
      "  1174  1547 1930765.11   17   62 1969951.78 1927933.68  2.13%   330   89s\n",
      "  1547  2196 1930520.73   24   57 1969951.78 1927941.01  2.13%   295   95s\n",
      "  2197  2197 1928025.21   23  118 1969951.78 1927953.87  2.13%   251  120s\n",
      "  2214  2208 1928395.14   30  107 1969951.78 1927962.65  2.13%   249  127s\n",
      "  2219  2212 1928149.55   39  117 1969951.78 1928149.55  2.12%   248  130s\n",
      "  2223  2214 1928228.27   40  122 1969951.78 1928228.27  2.12%   248  138s\n",
      "  2226  2216 1928271.53   55  133 1969951.78 1928271.53  2.12%   247  140s\n",
      "  2237  2224 1929175.54   10  140 1969951.78 1928440.25  2.11%   246  145s\n",
      "  2244  2228 1930795.93   36  145 1969951.78 1928510.70  2.10%   245  154s\n",
      "  2247  2230 1929126.00   77  153 1969951.78 1928541.13  2.10%   245  155s\n",
      "  2256  2236 1931147.31   32  154 1969951.78 1928603.50  2.10%   244  160s\n",
      "  2261  2245 1928974.29   14  106 1969951.78 1928640.29  2.10%   251  165s\n",
      "  2287  2272 1928935.74   17  112 1969951.78 1928821.03  2.09%   262  170s\n",
      "H 2289  2158                    1968639.6205 1928935.76  2.02%   262  170s\n",
      "  2301  2168 1928991.81   18  115 1968639.62 1928935.76  2.02%   266  178s\n",
      "  2329  2187 1929161.19   20  131 1968639.62 1929096.97  2.01%   274  182s\n",
      "  2357  2206 1929275.48   22  149 1968639.62 1929230.23  2.00%   281  185s\n",
      "\n",
      "Cutting planes:\n",
      "  Gomory: 1\n",
      "  Lift-and-project: 148\n",
      "  Implied bound: 784\n",
      "  MIR: 595\n",
      "  Flow cover: 83\n",
      "  Flow path: 51\n",
      "  Network: 31\n",
      "  RLT: 9\n",
      "  Relax-and-lift: 51\n",
      "  PSD: 35\n",
      "\n",
      "Explored 2371 nodes (685551 simplex iterations) in 186.01 seconds (276.67 work units)\n",
      "Thread count was 20 (of 20 available processors)\n",
      "\n",
      "Solution count 10: 1.96864e+06 1.96995e+06 1.97011e+06 ... 1.98246e+06\n",
      "\n",
      "Optimal solution found (tolerance 2.00e-02)\n",
      "Best objective 1.968639620480e+06, best bound 1.929275589834e+06, gap 1.9996%\n"
     ]
    }
   ],
   "source": [
    "m.params.LogToConsole = 1\n",
    "m.params.MIPgap = 0.02 ###important\n",
    "m.params.ScaleFlag = 1\n",
    "m.params.MIPFocus = 3\n",
    "m.params.BranchDir = -1\n",
    "m.params.Cuts = 3\n",
    "m.params.NumericFocus = 1\n",
    "\n",
    "m.update()\n",
    "m.optimize()"
   ]
  },
  {
   "cell_type": "code",
   "execution_count": null,
   "metadata": {},
   "outputs": [],
   "source": [
    "# m.computeIIS()"
   ]
  },
  {
   "cell_type": "code",
   "execution_count": 28,
   "metadata": {},
   "outputs": [],
   "source": [
    "hub_to_plant = [m.getVarByName(f\"h_to_p[{i},{j}]\").X for i in hubs.index for j in plants.index]\n",
    "county_to_hub = [m.getVarByName(f\"c_to_h[{i},{j}]\").X for i in suppliers.index for j in hubs.index]\n",
    "yplant = [m.getVarByName(f\"yplant[{i}]\").X for i in plants.index]\n",
    "yhub = [m.getVarByName(f\"yhub[{i}]\").X for i in hubs.index]\n",
    "ytrain = [m.getVarByName(f\"ytrain[{i},{j}]\").X for i in hubs.index for j in plants.index]\n",
    "ytruck = [m.getVarByName(f\"ytruck[{i},{j}]\").X for i in suppliers.index for j in hubs.index]\n",
    "x_out = m.getVarByName(\"outside_supply\").X"
   ]
  },
  {
   "cell_type": "code",
   "execution_count": 30,
   "metadata": {},
   "outputs": [
    {
     "name": "stdout",
     "output_type": "stream",
     "text": [
      "1.3334860684552317\n"
     ]
    }
   ],
   "source": [
    "cost_per_litre = m.getObjective().getValue()/(x_out+(sum(hub_to_plant)*232))\n",
    "print(cost_per_litre*1000)"
   ]
  },
  {
   "cell_type": "code",
   "execution_count": 31,
   "metadata": {},
   "outputs": [
    {
     "data": {
      "text/plain": [
       "8382.0"
      ]
     },
     "execution_count": 31,
     "metadata": {},
     "output_type": "execute_result"
    }
   ],
   "source": [
    "sum(ytruck)"
   ]
  },
  {
   "cell_type": "code",
   "execution_count": 32,
   "metadata": {},
   "outputs": [
    {
     "data": {
      "text/plain": [
       "2621788.017241381"
      ]
     },
     "execution_count": 32,
     "metadata": {},
     "output_type": "execute_result"
    }
   ],
   "source": [
    "sum(county_to_hub)"
   ]
  },
  {
   "cell_type": "code",
   "execution_count": 33,
   "metadata": {},
   "outputs": [
    {
     "data": {
      "text/plain": [
       "2621788.0172415716"
      ]
     },
     "execution_count": 33,
     "metadata": {},
     "output_type": "execute_result"
    }
   ],
   "source": [
    "sum(hub_to_plant)"
   ]
  },
  {
   "cell_type": "code",
   "execution_count": 36,
   "metadata": {},
   "outputs": [
    {
     "data": {
      "text/plain": [
       "431589.6910210545"
      ]
     },
     "execution_count": 36,
     "metadata": {},
     "output_type": "execute_result"
    }
   ],
   "source": [
    "suppliers['supply'].sum() - sum(hub_to_plant)"
   ]
  },
  {
   "cell_type": "code",
   "execution_count": 37,
   "metadata": {},
   "outputs": [
    {
     "data": {
      "text/plain": [
       "(array([ 525,  692, 1323, 1516, 2002, 2351, 2696, 2837, 3327, 3687, 3828,\n",
       "        4841, 5344], dtype=int64),)"
      ]
     },
     "execution_count": 37,
     "metadata": {},
     "output_type": "execute_result"
    }
   ],
   "source": [
    "np.nonzero(hub_to_plant)"
   ]
  },
  {
   "cell_type": "code",
   "execution_count": 38,
   "metadata": {},
   "outputs": [
    {
     "data": {
      "text/plain": [
       "(array([   9,  127,  154,  187,  226,  247,  300,  334,  385,  424,  433,\n",
       "         465,  498,  535,  580,  608,  643,  664,  748,  787,  811,  829,\n",
       "         861,  902,  935,  964, 1037, 1103, 1171, 1197, 1243, 1273, 1276,\n",
       "        1327, 1360, 1400, 1441, 1468, 1488, 1537, 1558, 1598, 1621, 1672,\n",
       "        1756, 1862, 1888, 1961, 1994, 2024, 2053, 2134, 2173, 2197, 2286,\n",
       "        2362, 2380, 2423, 2453, 2482, 2530, 2563, 2590, 2621, 2649, 2755,\n",
       "        2779, 2808, 2882, 2915, 2984, 3017, 3040, 3080, 3157, 3187, 3256,\n",
       "        3316, 3342, 3347, 3406, 3435, 3507, 3573, 3649, 3677, 3705, 3736,\n",
       "        3809, 3868, 3913, 3938, 4042, 4087, 4120, 4144, 4165, 4202, 4233,\n",
       "        4260, 4318, 4330, 4359, 4392, 4429, 4516, 4543, 4568, 4623, 4681,\n",
       "        4697, 4723, 4761, 4801, 4827, 4912, 4920, 5023, 5052, 5086, 5143,\n",
       "        5152, 5157, 5195, 5221, 5250, 5291, 5382, 5449, 5481, 5497, 5518,\n",
       "        5563, 5593, 5657, 5698, 5718, 5751, 5815, 5869, 5956, 5992, 6015,\n",
       "        6058, 6154, 6251, 6383, 6463, 6505, 6548, 6574, 6609, 6715, 6760,\n",
       "        6768, 6805, 6838, 6871, 6972, 7015, 7081, 7102, 7135, 7246, 7267,\n",
       "        7366, 7406, 7432, 7462, 7500, 7571, 7698, 7733, 7771, 7804, 7858,\n",
       "        7936, 7975, 8008, 8041, 8080, 8089, 8129, 8203, 8231, 8302],\n",
       "       dtype=int64),)"
      ]
     },
     "execution_count": 38,
     "metadata": {},
     "output_type": "execute_result"
    }
   ],
   "source": [
    "np.nonzero(county_to_hub)"
   ]
  },
  {
   "cell_type": "code",
   "execution_count": 39,
   "metadata": {},
   "outputs": [],
   "source": [
    "# roads_copy = roads.copy()\n",
    "# roads_copy['c_to_h'] = c_to_h.gppd.X.to_frame()\n",
    "# roads_copy = roads_copy.groupby('county').sum()"
   ]
  },
  {
   "cell_type": "code",
   "execution_count": 40,
   "metadata": {},
   "outputs": [],
   "source": [
    "# roads_copy['supply'] = suppliers['supply'].copy()"
   ]
  },
  {
   "cell_type": "code",
   "execution_count": 41,
   "metadata": {},
   "outputs": [],
   "source": [
    "# vio_list = []\n",
    "# for index, row in roads_copy.iterrows():\n",
    "#     if row['c_to_h'] > row['supply']+0.0001:\n",
    "#         vio_list.append(index)"
   ]
  },
  {
   "cell_type": "code",
   "execution_count": 42,
   "metadata": {},
   "outputs": [],
   "source": [
    "# roads_copy.loc[vio_list]"
   ]
  },
  {
   "cell_type": "code",
   "execution_count": 43,
   "metadata": {},
   "outputs": [
    {
     "data": {
      "text/plain": [
       "608254820.0000446"
      ]
     },
     "execution_count": 43,
     "metadata": {},
     "output_type": "execute_result"
    }
   ],
   "source": [
    "sum(hub_to_plant)*232"
   ]
  },
  {
   "cell_type": "code",
   "execution_count": 44,
   "metadata": {},
   "outputs": [
    {
     "data": {
      "text/plain": [
       "10.0"
      ]
     },
     "execution_count": 44,
     "metadata": {},
     "output_type": "execute_result"
    }
   ],
   "source": [
    "sum(yhub)"
   ]
  },
  {
   "cell_type": "code",
   "execution_count": 45,
   "metadata": {},
   "outputs": [
    {
     "data": {
      "text/plain": [
       "[-0.0,\n",
       " 0.0,\n",
       " -0.0,\n",
       " 1.0,\n",
       " 1.0,\n",
       " -0.0,\n",
       " -0.0,\n",
       " 1.0,\n",
       " -0.0,\n",
       " 1.0,\n",
       " -0.0,\n",
       " 1.0,\n",
       " -0.0,\n",
       " -0.0,\n",
       " 1.0,\n",
       " 0.0,\n",
       " 1.0,\n",
       " -0.0,\n",
       " -0.0,\n",
       " 1.0,\n",
       " -0.0,\n",
       " -0.0,\n",
       " 1.0,\n",
       " -0.0,\n",
       " -0.0,\n",
       " -0.0,\n",
       " -0.0,\n",
       " -0.0,\n",
       " 1.0,\n",
       " -0.0,\n",
       " -0.0,\n",
       " -0.0,\n",
       " -0.0]"
      ]
     },
     "execution_count": 45,
     "metadata": {},
     "output_type": "execute_result"
    }
   ],
   "source": [
    "yhub"
   ]
  },
  {
   "cell_type": "code",
   "execution_count": 46,
   "metadata": {},
   "outputs": [
    {
     "data": {
      "text/plain": [
       "4.000000000000293"
      ]
     },
     "execution_count": 46,
     "metadata": {},
     "output_type": "execute_result"
    }
   ],
   "source": [
    "sum(yplant)"
   ]
  }
 ],
 "metadata": {
  "kernelspec": {
   "display_name": "Python 3",
   "language": "python",
   "name": "python3"
  },
  "language_info": {
   "codemirror_mode": {
    "name": "ipython",
    "version": 3
   },
   "file_extension": ".py",
   "mimetype": "text/x-python",
   "name": "python",
   "nbconvert_exporter": "python",
   "pygments_lexer": "ipython3",
   "version": "3.10.11"
  }
 },
 "nbformat": 4,
 "nbformat_minor": 2
}
