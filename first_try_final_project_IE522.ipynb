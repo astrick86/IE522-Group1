{
 "cells": [
  {
   "cell_type": "code",
   "execution_count": 23,
   "metadata": {},
   "outputs": [],
   "source": [
    "import pandas as pd\n",
    "import gurobipy as gp\n",
    "from gurobipy import GRB\n",
    "import numpy as np\n",
    "import gurobipy_pandas as gppd\n",
    "\n",
    "# set intercative mode\n",
    "gppd.set_interactive()"
   ]
  },
  {
   "cell_type": "code",
   "execution_count": 24,
   "metadata": {},
   "outputs": [],
   "source": [
    "# importing data\n",
    "hubs = pd.read_csv(r\"D:\\1. UTK PhD\\Fall 23\\IE 522\\Final Project\\OneDrive_1_12-5-2023\\TX_hubs.csv\")\n",
    "network = pd.read_csv(r\"D:\\1. UTK PhD\\Fall 23\\IE 522\\Final Project\\OneDrive_1_12-5-2023\\TX_network.csv\")\n",
    "plants = pd.read_csv(r\"D:\\1. UTK PhD\\Fall 23\\IE 522\\Final Project\\OneDrive_1_12-5-2023\\TX_plants.csv\")\n",
    "roads = pd.read_csv(r\"D:\\1. UTK PhD\\Fall 23\\IE 522\\Final Project\\OneDrive_1_12-5-2023\\TX_roads.csv\")\n",
    "suppliers = pd.read_csv(r\"D:\\1. UTK PhD\\Fall 23\\IE 522\\Final Project\\OneDrive_1_12-5-2023\\TX_suppliers.csv\")\n",
    "railroads = pd.read_csv(r\"D:\\1. UTK PhD\\Fall 23\\IE 522\\Final Project\\OneDrive_1_12-5-2023\\TX_railroads.csv\")"
   ]
  },
  {
   "cell_type": "code",
   "execution_count": 25,
   "metadata": {},
   "outputs": [
    {
     "data": {
      "text/html": [
       "<div>\n",
       "<style scoped>\n",
       "    .dataframe tbody tr th:only-of-type {\n",
       "        vertical-align: middle;\n",
       "    }\n",
       "\n",
       "    .dataframe tbody tr th {\n",
       "        vertical-align: top;\n",
       "    }\n",
       "\n",
       "    .dataframe thead th {\n",
       "        text-align: right;\n",
       "    }\n",
       "</style>\n",
       "<table border=\"1\" class=\"dataframe\">\n",
       "  <thead>\n",
       "    <tr style=\"text-align: right;\">\n",
       "      <th></th>\n",
       "      <th>index</th>\n",
       "      <th>latitude</th>\n",
       "      <th>longitude</th>\n",
       "      <th>invest</th>\n",
       "      <th>capacity</th>\n",
       "    </tr>\n",
       "    <tr>\n",
       "      <th>hub</th>\n",
       "      <th></th>\n",
       "      <th></th>\n",
       "      <th></th>\n",
       "      <th></th>\n",
       "      <th></th>\n",
       "    </tr>\n",
       "  </thead>\n",
       "  <tbody>\n",
       "    <tr>\n",
       "      <th>17201</th>\n",
       "      <td>1</td>\n",
       "      <td>33.64844</td>\n",
       "      <td>-95.56841</td>\n",
       "      <td>3476219</td>\n",
       "      <td>300000</td>\n",
       "    </tr>\n",
       "    <tr>\n",
       "      <th>17218</th>\n",
       "      <td>2</td>\n",
       "      <td>33.64124</td>\n",
       "      <td>-96.60666</td>\n",
       "      <td>3476219</td>\n",
       "      <td>300000</td>\n",
       "    </tr>\n",
       "    <tr>\n",
       "      <th>17359</th>\n",
       "      <td>3</td>\n",
       "      <td>29.31990</td>\n",
       "      <td>-96.10283</td>\n",
       "      <td>3476219</td>\n",
       "      <td>300000</td>\n",
       "    </tr>\n",
       "    <tr>\n",
       "      <th>17372</th>\n",
       "      <td>4</td>\n",
       "      <td>30.75623</td>\n",
       "      <td>-98.67770</td>\n",
       "      <td>3476219</td>\n",
       "      <td>300000</td>\n",
       "    </tr>\n",
       "    <tr>\n",
       "      <th>17395</th>\n",
       "      <td>5</td>\n",
       "      <td>30.84636</td>\n",
       "      <td>-96.98711</td>\n",
       "      <td>3476219</td>\n",
       "      <td>300000</td>\n",
       "    </tr>\n",
       "  </tbody>\n",
       "</table>\n",
       "</div>"
      ],
      "text/plain": [
       "       index  latitude  longitude   invest  capacity\n",
       "hub                                                 \n",
       "17201      1  33.64844  -95.56841  3476219    300000\n",
       "17218      2  33.64124  -96.60666  3476219    300000\n",
       "17359      3  29.31990  -96.10283  3476219    300000\n",
       "17372      4  30.75623  -98.67770  3476219    300000\n",
       "17395      5  30.84636  -96.98711  3476219    300000"
      ]
     },
     "execution_count": 25,
     "metadata": {},
     "output_type": "execute_result"
    }
   ],
   "source": [
    "hubs.set_index('hub', inplace=True)\n",
    "hubs.head()"
   ]
  },
  {
   "cell_type": "code",
   "execution_count": 26,
   "metadata": {},
   "outputs": [
    {
     "data": {
      "text/html": [
       "<div>\n",
       "<style scoped>\n",
       "    .dataframe tbody tr th:only-of-type {\n",
       "        vertical-align: middle;\n",
       "    }\n",
       "\n",
       "    .dataframe tbody tr th {\n",
       "        vertical-align: top;\n",
       "    }\n",
       "\n",
       "    .dataframe thead th {\n",
       "        text-align: right;\n",
       "    }\n",
       "</style>\n",
       "<table border=\"1\" class=\"dataframe\">\n",
       "  <thead>\n",
       "    <tr style=\"text-align: right;\">\n",
       "      <th></th>\n",
       "      <th>counties</th>\n",
       "      <th>hubs</th>\n",
       "      <th>plants</th>\n",
       "      <th>techs</th>\n",
       "      <th>demand</th>\n",
       "    </tr>\n",
       "  </thead>\n",
       "  <tbody>\n",
       "    <tr>\n",
       "      <th>0</th>\n",
       "      <td>254</td>\n",
       "      <td>33</td>\n",
       "      <td>167</td>\n",
       "      <td>1</td>\n",
       "      <td>1476310602</td>\n",
       "    </tr>\n",
       "  </tbody>\n",
       "</table>\n",
       "</div>"
      ],
      "text/plain": [
       "   counties  hubs  plants  techs      demand\n",
       "0       254    33     167      1  1476310602"
      ]
     },
     "execution_count": 26,
     "metadata": {},
     "output_type": "execute_result"
    }
   ],
   "source": [
    "network.head()"
   ]
  },
  {
   "cell_type": "code",
   "execution_count": 27,
   "metadata": {},
   "outputs": [
    {
     "data": {
      "text/html": [
       "<div>\n",
       "<style scoped>\n",
       "    .dataframe tbody tr th:only-of-type {\n",
       "        vertical-align: middle;\n",
       "    }\n",
       "\n",
       "    .dataframe tbody tr th {\n",
       "        vertical-align: top;\n",
       "    }\n",
       "\n",
       "    .dataframe thead th {\n",
       "        text-align: right;\n",
       "    }\n",
       "</style>\n",
       "<table border=\"1\" class=\"dataframe\">\n",
       "  <thead>\n",
       "    <tr style=\"text-align: right;\">\n",
       "      <th></th>\n",
       "      <th>index</th>\n",
       "      <th>latitude</th>\n",
       "      <th>longitude</th>\n",
       "      <th>tech</th>\n",
       "      <th>invest</th>\n",
       "      <th>capacity</th>\n",
       "      <th>yield</th>\n",
       "    </tr>\n",
       "    <tr>\n",
       "      <th>plant</th>\n",
       "      <th></th>\n",
       "      <th></th>\n",
       "      <th></th>\n",
       "      <th></th>\n",
       "      <th></th>\n",
       "      <th></th>\n",
       "      <th></th>\n",
       "    </tr>\n",
       "  </thead>\n",
       "  <tbody>\n",
       "    <tr>\n",
       "      <th>541</th>\n",
       "      <td>1</td>\n",
       "      <td>30.220353</td>\n",
       "      <td>-97.740436</td>\n",
       "      <td>1</td>\n",
       "      <td>130956797</td>\n",
       "      <td>152063705</td>\n",
       "      <td>232</td>\n",
       "    </tr>\n",
       "    <tr>\n",
       "      <th>542</th>\n",
       "      <td>2</td>\n",
       "      <td>29.676724</td>\n",
       "      <td>-98.635234</td>\n",
       "      <td>1</td>\n",
       "      <td>130956797</td>\n",
       "      <td>152063705</td>\n",
       "      <td>232</td>\n",
       "    </tr>\n",
       "    <tr>\n",
       "      <th>543</th>\n",
       "      <td>3</td>\n",
       "      <td>33.760315</td>\n",
       "      <td>-96.559867</td>\n",
       "      <td>1</td>\n",
       "      <td>130956797</td>\n",
       "      <td>152063705</td>\n",
       "      <td>232</td>\n",
       "    </tr>\n",
       "    <tr>\n",
       "      <th>544</th>\n",
       "      <td>4</td>\n",
       "      <td>29.531920</td>\n",
       "      <td>-98.286901</td>\n",
       "      <td>1</td>\n",
       "      <td>130956797</td>\n",
       "      <td>152063705</td>\n",
       "      <td>232</td>\n",
       "    </tr>\n",
       "    <tr>\n",
       "      <th>545</th>\n",
       "      <td>5</td>\n",
       "      <td>29.688568</td>\n",
       "      <td>-98.562424</td>\n",
       "      <td>1</td>\n",
       "      <td>130956797</td>\n",
       "      <td>152063705</td>\n",
       "      <td>232</td>\n",
       "    </tr>\n",
       "  </tbody>\n",
       "</table>\n",
       "</div>"
      ],
      "text/plain": [
       "       index   latitude  longitude  tech     invest   capacity  yield\n",
       "plant                                                                \n",
       "541        1  30.220353 -97.740436     1  130956797  152063705    232\n",
       "542        2  29.676724 -98.635234     1  130956797  152063705    232\n",
       "543        3  33.760315 -96.559867     1  130956797  152063705    232\n",
       "544        4  29.531920 -98.286901     1  130956797  152063705    232\n",
       "545        5  29.688568 -98.562424     1  130956797  152063705    232"
      ]
     },
     "execution_count": 27,
     "metadata": {},
     "output_type": "execute_result"
    }
   ],
   "source": [
    "plants.set_index('plant', inplace=True)\n",
    "plants.head()"
   ]
  },
  {
   "cell_type": "code",
   "execution_count": 28,
   "metadata": {},
   "outputs": [
    {
     "data": {
      "text/html": [
       "<div>\n",
       "<style scoped>\n",
       "    .dataframe tbody tr th:only-of-type {\n",
       "        vertical-align: middle;\n",
       "    }\n",
       "\n",
       "    .dataframe tbody tr th {\n",
       "        vertical-align: top;\n",
       "    }\n",
       "\n",
       "    .dataframe thead th {\n",
       "        text-align: right;\n",
       "    }\n",
       "</style>\n",
       "<table border=\"1\" class=\"dataframe\">\n",
       "  <thead>\n",
       "    <tr style=\"text-align: right;\">\n",
       "      <th></th>\n",
       "      <th></th>\n",
       "      <th>index</th>\n",
       "      <th>distance</th>\n",
       "      <th>cost</th>\n",
       "    </tr>\n",
       "    <tr>\n",
       "      <th>county</th>\n",
       "      <th>hub</th>\n",
       "      <th></th>\n",
       "      <th></th>\n",
       "      <th></th>\n",
       "    </tr>\n",
       "  </thead>\n",
       "  <tbody>\n",
       "    <tr>\n",
       "      <th rowspan=\"5\" valign=\"top\">48001</th>\n",
       "      <th>17201</th>\n",
       "      <td>1</td>\n",
       "      <td>219.6090</td>\n",
       "      <td>40.580691</td>\n",
       "    </tr>\n",
       "    <tr>\n",
       "      <th>17218</th>\n",
       "      <td>2</td>\n",
       "      <td>264.7658</td>\n",
       "      <td>47.661277</td>\n",
       "    </tr>\n",
       "    <tr>\n",
       "      <th>17359</th>\n",
       "      <td>3</td>\n",
       "      <td>370.6750</td>\n",
       "      <td>64.267840</td>\n",
       "    </tr>\n",
       "    <tr>\n",
       "      <th>17372</th>\n",
       "      <td>4</td>\n",
       "      <td>420.0082</td>\n",
       "      <td>72.003286</td>\n",
       "    </tr>\n",
       "    <tr>\n",
       "      <th>17395</th>\n",
       "      <td>5</td>\n",
       "      <td>199.2915</td>\n",
       "      <td>37.394907</td>\n",
       "    </tr>\n",
       "  </tbody>\n",
       "</table>\n",
       "</div>"
      ],
      "text/plain": [
       "              index  distance       cost\n",
       "county hub                              \n",
       "48001  17201      1  219.6090  40.580691\n",
       "       17218      2  264.7658  47.661277\n",
       "       17359      3  370.6750  64.267840\n",
       "       17372      4  420.0082  72.003286\n",
       "       17395      5  199.2915  37.394907"
      ]
     },
     "execution_count": 28,
     "metadata": {},
     "output_type": "execute_result"
    }
   ],
   "source": [
    "roads.set_index(['county','hub'], inplace=True)\n",
    "roads.head()"
   ]
  },
  {
   "cell_type": "code",
   "execution_count": 29,
   "metadata": {},
   "outputs": [
    {
     "data": {
      "text/html": [
       "<div>\n",
       "<style scoped>\n",
       "    .dataframe tbody tr th:only-of-type {\n",
       "        vertical-align: middle;\n",
       "    }\n",
       "\n",
       "    .dataframe tbody tr th {\n",
       "        vertical-align: top;\n",
       "    }\n",
       "\n",
       "    .dataframe thead th {\n",
       "        text-align: right;\n",
       "    }\n",
       "</style>\n",
       "<table border=\"1\" class=\"dataframe\">\n",
       "  <thead>\n",
       "    <tr style=\"text-align: right;\">\n",
       "      <th></th>\n",
       "      <th>index</th>\n",
       "      <th>supply</th>\n",
       "    </tr>\n",
       "    <tr>\n",
       "      <th>county</th>\n",
       "      <th></th>\n",
       "      <th></th>\n",
       "    </tr>\n",
       "  </thead>\n",
       "  <tbody>\n",
       "    <tr>\n",
       "      <th>48001</th>\n",
       "      <td>1.0</td>\n",
       "      <td>13131.971710</td>\n",
       "    </tr>\n",
       "    <tr>\n",
       "      <th>48003</th>\n",
       "      <td>2.0</td>\n",
       "      <td>1177.351950</td>\n",
       "    </tr>\n",
       "    <tr>\n",
       "      <th>48005</th>\n",
       "      <td>3.0</td>\n",
       "      <td>3854.618542</td>\n",
       "    </tr>\n",
       "    <tr>\n",
       "      <th>48007</th>\n",
       "      <td>4.0</td>\n",
       "      <td>308.182629</td>\n",
       "    </tr>\n",
       "    <tr>\n",
       "      <th>48009</th>\n",
       "      <td>5.0</td>\n",
       "      <td>19802.136510</td>\n",
       "    </tr>\n",
       "  </tbody>\n",
       "</table>\n",
       "</div>"
      ],
      "text/plain": [
       "        index        supply\n",
       "county                     \n",
       "48001     1.0  13131.971710\n",
       "48003     2.0   1177.351950\n",
       "48005     3.0   3854.618542\n",
       "48007     4.0    308.182629\n",
       "48009     5.0  19802.136510"
      ]
     },
     "execution_count": 29,
     "metadata": {},
     "output_type": "execute_result"
    }
   ],
   "source": [
    "# cleaning dataset by removing NA values\n",
    "suppliers.dropna(inplace=True)\n",
    "suppliers.county = suppliers.county.astype(int)\n",
    "suppliers.set_index('county',inplace=True)\n",
    "suppliers.head()"
   ]
  },
  {
   "cell_type": "code",
   "execution_count": 30,
   "metadata": {},
   "outputs": [
    {
     "data": {
      "text/html": [
       "<div>\n",
       "<style scoped>\n",
       "    .dataframe tbody tr th:only-of-type {\n",
       "        vertical-align: middle;\n",
       "    }\n",
       "\n",
       "    .dataframe tbody tr th {\n",
       "        vertical-align: top;\n",
       "    }\n",
       "\n",
       "    .dataframe thead th {\n",
       "        text-align: right;\n",
       "    }\n",
       "</style>\n",
       "<table border=\"1\" class=\"dataframe\">\n",
       "  <thead>\n",
       "    <tr style=\"text-align: right;\">\n",
       "      <th></th>\n",
       "      <th></th>\n",
       "      <th>index</th>\n",
       "      <th>distance</th>\n",
       "      <th>cost</th>\n",
       "      <th>loading</th>\n",
       "      <th>capacity</th>\n",
       "    </tr>\n",
       "    <tr>\n",
       "      <th>hub</th>\n",
       "      <th>plant</th>\n",
       "      <th></th>\n",
       "      <th></th>\n",
       "      <th></th>\n",
       "      <th></th>\n",
       "      <th></th>\n",
       "    </tr>\n",
       "  </thead>\n",
       "  <tbody>\n",
       "    <tr>\n",
       "      <th rowspan=\"5\" valign=\"top\">17201</th>\n",
       "      <th>541</th>\n",
       "      <td>1</td>\n",
       "      <td>922.023251</td>\n",
       "      <td>17.095711</td>\n",
       "      <td>3066792</td>\n",
       "      <td>338000</td>\n",
       "    </tr>\n",
       "    <tr>\n",
       "      <th>542</th>\n",
       "      <td>2</td>\n",
       "      <td>1160.842967</td>\n",
       "      <td>20.923752</td>\n",
       "      <td>3066792</td>\n",
       "      <td>338000</td>\n",
       "    </tr>\n",
       "    <tr>\n",
       "      <th>543</th>\n",
       "      <td>3</td>\n",
       "      <td>186.924258</td>\n",
       "      <td>5.312809</td>\n",
       "      <td>3066792</td>\n",
       "      <td>338000</td>\n",
       "    </tr>\n",
       "    <tr>\n",
       "      <th>544</th>\n",
       "      <td>4</td>\n",
       "      <td>1074.699073</td>\n",
       "      <td>19.542951</td>\n",
       "      <td>3066792</td>\n",
       "      <td>338000</td>\n",
       "    </tr>\n",
       "    <tr>\n",
       "      <th>545</th>\n",
       "      <td>5</td>\n",
       "      <td>1160.842967</td>\n",
       "      <td>20.923752</td>\n",
       "      <td>3066792</td>\n",
       "      <td>338000</td>\n",
       "    </tr>\n",
       "  </tbody>\n",
       "</table>\n",
       "</div>"
      ],
      "text/plain": [
       "             index     distance       cost  loading  capacity\n",
       "hub   plant                                                  \n",
       "17201 541        1   922.023251  17.095711  3066792    338000\n",
       "      542        2  1160.842967  20.923752  3066792    338000\n",
       "      543        3   186.924258   5.312809  3066792    338000\n",
       "      544        4  1074.699073  19.542951  3066792    338000\n",
       "      545        5  1160.842967  20.923752  3066792    338000"
      ]
     },
     "execution_count": 30,
     "metadata": {},
     "output_type": "execute_result"
    }
   ],
   "source": [
    "railroads.set_index(['hub','plant'], inplace=True)\n",
    "railroads.head()"
   ]
  },
  {
   "cell_type": "code",
   "execution_count": 31,
   "metadata": {},
   "outputs": [],
   "source": [
    "# create gurobi model\n",
    "m = gp.Model()"
   ]
  },
  {
   "cell_type": "code",
   "execution_count": 32,
   "metadata": {},
   "outputs": [],
   "source": [
    "### Variables\n",
    "yhub = gppd.add_vars(m, hubs, name='yhub', vtype=GRB.BINARY, lb=0)\n",
    "yplant = gppd.add_vars(m, plants, name='yplant', vtype=GRB.BINARY, lb=0)\n",
    "ytruck = gppd.add_vars(m, roads, name='ytruck', vtype=GRB.BINARY, lb=0)\n",
    "ytrain = gppd.add_vars(m, railroads, name='ytrain', vtype=GRB.BINARY, lb=0)\n",
    "\n",
    "c_to_h = gppd.add_vars(m, roads, name='c_to_h', vtype=GRB.CONTINUOUS, lb=0) # Flow from county to hub\n",
    "h_to_p = gppd.add_vars(m, railroads, name='h_to_p', vtype=GRB.CONTINUOUS, lb=0) # Flow from hub to plant\n",
    "\n",
    "#x_out = m.addVar(vtype=GRB.CONTINUOUS, name='outside_supply', lb=0)"
   ]
  },
  {
   "cell_type": "code",
   "execution_count": 33,
   "metadata": {},
   "outputs": [],
   "source": [
    "### parameters\n",
    "\"\"\"\n",
    "demand = network['demand]\n",
    "yield = plants['yield']\n",
    "cplant = plants['invest']\n",
    "chub = hubs['invest']\n",
    "\"\"\"\n",
    "M = 500000\n",
    "# fuel from external source\n",
    "#c_out = True"
   ]
  },
  {
   "cell_type": "code",
   "execution_count": 34,
   "metadata": {},
   "outputs": [],
   "source": [
    "### Objective\n",
    "m.setObjective((plants['invest'] * yplant).sum() + (hubs['invest'] * yhub).sum() + (c_to_h * roads['cost']).sum() \\\n",
    "               + (ytrain * railroads['loading']).sum() + (h_to_p * railroads['cost']).sum(), \n",
    "               GRB.MINIMIZE)"
   ]
  },
  {
   "cell_type": "code",
   "execution_count": 35,
   "metadata": {},
   "outputs": [],
   "source": [
    "### Highest possible demand that can be met by the network\n",
    "#m.setObjective((yplant * plants['yield'] * h_to_p.groupby('plant').sum()).sum(), GRB.MAXIMIZE)"
   ]
  },
  {
   "cell_type": "code",
   "execution_count": 36,
   "metadata": {},
   "outputs": [],
   "source": [
    "### Constraints\n",
    "# flow conservation through hub\n",
    "flow_hub = gppd.add_constrs(m,\n",
    "                            c_to_h.groupby('hub').sum(),\n",
    "                            GRB.EQUAL,\n",
    "                            h_to_p.groupby('hub').sum(),\n",
    "                            name='hub_flow'\n",
    "                            )"
   ]
  },
  {
   "cell_type": "code",
   "execution_count": 37,
   "metadata": {},
   "outputs": [],
   "source": [
    "# hub capacity\n",
    "cap_hub = gppd.add_constrs(m,\n",
    "                           c_to_h.groupby('hub').sum(),\n",
    "                           GRB.LESS_EQUAL,\n",
    "                           hubs['capacity']*yhub,\n",
    "                           name='hub_capacity'\n",
    "                           )"
   ]
  },
  {
   "cell_type": "code",
   "execution_count": 38,
   "metadata": {},
   "outputs": [],
   "source": [
    "# train capacity\n",
    "cap_train = gppd.add_constrs(m,\n",
    "                           h_to_p,\n",
    "                           GRB.LESS_EQUAL,\n",
    "                           railroads['capacity']*ytrain,\n",
    "                           name='train_capacity'\n",
    "                           )"
   ]
  },
  {
   "cell_type": "code",
   "execution_count": 39,
   "metadata": {},
   "outputs": [],
   "source": [
    "# supplier (county) capacity\n",
    "cap_county = gppd.add_constrs(m,\n",
    "                           (c_to_h).groupby('county').sum(),\n",
    "                           GRB.LESS_EQUAL,\n",
    "                           suppliers['supply'],\n",
    "                           name='suppliers_supply'\n",
    "                           )"
   ]
  },
  {
   "cell_type": "code",
   "execution_count": 40,
   "metadata": {},
   "outputs": [],
   "source": [
    "# delivery by truck\n",
    "truck_delivery = gppd.add_constrs(m,\n",
    "                           c_to_h,\n",
    "                           GRB.LESS_EQUAL,\n",
    "                           M*ytruck,\n",
    "                           name='truck_binary'\n",
    "                           )\n",
    "\n",
    "# delivery by train\n",
    "train_delivery = gppd.add_constrs(m,\n",
    "                           h_to_p,\n",
    "                           GRB.LESS_EQUAL,\n",
    "                           M*ytrain,\n",
    "                           name='train_binary'\n",
    "                           )"
   ]
  },
  {
   "cell_type": "code",
   "execution_count": 41,
   "metadata": {},
   "outputs": [],
   "source": [
    "# plant capacity\n",
    "cap_plant = gppd.add_constrs(m,\n",
    "                            h_to_p.groupby('plant').sum(),\n",
    "                            GRB.LESS_EQUAL,\n",
    "                            (plants['capacity']/plants['yield'])*yplant,\n",
    "                            name='plant_capacity'\n",
    "                            )"
   ]
  },
  {
   "cell_type": "code",
   "execution_count": 42,
   "metadata": {},
   "outputs": [],
   "source": [
    "# demand\n",
    "demand_constraint = gppd.add_constrs(m,\n",
    "                                     (h_to_p.groupby('plant').sum()).sum(),\n",
    "                                     GRB.GREATER_EQUAL,\n",
    "                                     network['demand']*0.47/232,\n",
    "                                     name='network_demand'\n",
    "                                     )"
   ]
  },
  {
   "cell_type": "code",
   "execution_count": 43,
   "metadata": {},
   "outputs": [],
   "source": [
    "# write the model\n",
    "m.write(\"supply_chain_biofuel.lp\")"
   ]
  },
  {
   "cell_type": "code",
   "execution_count": 44,
   "metadata": {},
   "outputs": [
    {
     "name": "stdout",
     "output_type": "stream",
     "text": [
      "Set parameter MIPGap to value 0.07\n",
      "Set parameter ScaleFlag to value 1\n",
      "Set parameter MIPFocus to value 3\n",
      "Set parameter BranchDir to value -1\n",
      "Set parameter Cuts to value 3\n",
      "Set parameter NumericFocus to value 1\n",
      "Gurobi Optimizer version 10.0.1 build v10.0.1rc0 (win64)\n",
      "\n",
      "CPU model: 12th Gen Intel(R) Core(TM) i7-12700H, instruction set [SSE2|AVX|AVX2]\n",
      "Thread count: 14 physical cores, 20 logical processors, using up to 20 threads\n",
      "\n",
      "Optimize a model with 19892 rows, 27987 columns and 80687 nonzeros\n",
      "Model fingerprint: 0xce5b2f5b\n",
      "Variable types: 13894 continuous, 14093 integer (14093 binary)\n",
      "Coefficient statistics:\n",
      "  Matrix range     [1e+00, 7e+05]\n",
      "  Objective range  [2e+00, 1e+08]\n",
      "  Bounds range     [1e+00, 1e+00]\n",
      "  RHS range        [8e-01, 3e+06]\n",
      "Presolve removed 13899 rows and 8581 columns\n",
      "Presolve time: 0.06s\n",
      "Presolved: 5993 rows, 19406 columns, 52307 nonzeros\n",
      "Variable types: 13695 continuous, 5711 integer (5711 binary)\n",
      "Found heuristic solution: objective 2.520154e+09\n",
      "Root relaxation presolve removed 5511 rows and 5511 columns\n",
      "Root relaxation presolved: 482 rows, 13895 columns, 41285 nonzeros\n",
      "\n",
      "\n",
      "Root relaxation: objective 7.373168e+08, 578 iterations, 0.03 seconds (0.04 work units)\n",
      "\n",
      "    Nodes    |    Current Node    |     Objective Bounds      |     Work\n",
      " Expl Unexpl |  Obj  Depth IntInf | Incumbent    BestBd   Gap | It/Node Time\n",
      "\n",
      "     0     0 7.3732e+08    0   83 2.5202e+09 7.3732e+08  70.7%     -    0s\n",
      "H    0     0                    2.389861e+09 7.3732e+08  69.1%     -    0s\n",
      "H    0     0                    2.261758e+09 7.4743e+08  67.0%     -    0s\n",
      "H    0     0                    2.261731e+09 7.4743e+08  67.0%     -    0s\n",
      "H    0     0                    2.131062e+09 7.4743e+08  64.9%     -    0s\n",
      "     0     0 7.4825e+08    0  103 2.1311e+09 7.4825e+08  64.9%     -    0s\n",
      "H    0     0                    1.517021e+09 7.4825e+08  50.7%     -    0s\n",
      "H    0     0                    1.388143e+09 7.4834e+08  46.1%     -    0s\n",
      "     0     0 7.4847e+08    0   94 1.3881e+09 7.4847e+08  46.1%     -    0s\n",
      "     0     0 7.4847e+08    0   90 1.3881e+09 7.4847e+08  46.1%     -    0s\n",
      "H    0     0                    1.081658e+09 7.5060e+08  30.6%     -    1s\n",
      "     0     0 7.5060e+08    0   87 1.0817e+09 7.5060e+08  30.6%     -    1s\n",
      "H    0     0                    9.527860e+08 7.5159e+08  21.1%     -    2s\n",
      "     0     0 7.5159e+08    0   90 9.5279e+08 7.5159e+08  21.1%     -    2s\n",
      "     0     0 7.5171e+08    0   99 9.5279e+08 7.5171e+08  21.1%     -    2s\n",
      "     0     0 7.5176e+08    0   93 9.5279e+08 7.5176e+08  21.1%     -    2s\n",
      "     0     0 7.5177e+08    0   88 9.5279e+08 7.5177e+08  21.1%     -    2s\n",
      "     0     0 7.5319e+08    0  113 9.5279e+08 7.5319e+08  20.9%     -    3s\n",
      "     0     0 7.5386e+08    0  106 9.5279e+08 7.5386e+08  20.9%     -    4s\n",
      "H    0     0                    8.177205e+08 7.5406e+08  7.78%     -    4s\n",
      "     0     0 7.5406e+08    0  108 8.1772e+08 7.5406e+08  7.78%     -    4s\n",
      "     0     0 7.5417e+08    0  110 8.1772e+08 7.5417e+08  7.77%     -    4s\n",
      "     0     0 7.5424e+08    0  120 8.1772e+08 7.5424e+08  7.76%     -    4s\n",
      "     0     0 7.5426e+08    0  114 8.1772e+08 7.5426e+08  7.76%     -    4s\n",
      "     0     0 7.5426e+08    0  119 8.1772e+08 7.5426e+08  7.76%     -    5s\n",
      "     0     0 7.5466e+08    0  104 8.1772e+08 7.5466e+08  7.71%     -    6s\n",
      "     0     0 7.5489e+08    0  112 8.1772e+08 7.5489e+08  7.68%     -    6s\n",
      "     0     0 7.5494e+08    0  103 8.1772e+08 7.5494e+08  7.68%     -    7s\n",
      "     0     0 7.5496e+08    0   98 8.1772e+08 7.5496e+08  7.68%     -    7s\n",
      "     0     0 7.5497e+08    0  102 8.1772e+08 7.5497e+08  7.67%     -    7s\n",
      "H    0     0                    8.164738e+08 7.5497e+08  7.53%     -    7s\n",
      "     0     0 7.5513e+08    0   96 8.1647e+08 7.5513e+08  7.51%     -    8s\n",
      "     0     0 7.5529e+08    0  111 8.1647e+08 7.5529e+08  7.49%     -    8s\n",
      "     0     0 7.5533e+08    0  100 8.1647e+08 7.5533e+08  7.49%     -    9s\n",
      "     0     0 7.5535e+08    0   91 8.1647e+08 7.5535e+08  7.49%     -    9s\n",
      "     0     0 7.5553e+08    0   95 8.1647e+08 7.5553e+08  7.46%     -   10s\n",
      "     0     0 7.5558e+08    0  113 8.1647e+08 7.5558e+08  7.46%     -   11s\n",
      "     0     0 7.5560e+08    0   90 8.1647e+08 7.5560e+08  7.46%     -   11s\n",
      "     0     0 7.5561e+08    0  105 8.1647e+08 7.5561e+08  7.45%     -   11s\n",
      "     0     0 7.5575e+08    0  111 8.1647e+08 7.5575e+08  7.44%     -   13s\n",
      "     0     0 7.5580e+08    0  103 8.1647e+08 7.5580e+08  7.43%     -   13s\n",
      "     0     0 7.5584e+08    0  107 8.1647e+08 7.5584e+08  7.43%     -   13s\n",
      "     0     0 7.5586e+08    0  121 8.1647e+08 7.5586e+08  7.42%     -   13s\n",
      "H    0     0                    8.162537e+08 7.5586e+08  7.40%     -   14s\n",
      "     0     0 7.5602e+08    0  103 8.1625e+08 7.5602e+08  7.38%     -   15s\n",
      "     0     0 7.5607e+08    0  114 8.1625e+08 7.5607e+08  7.37%     -   15s\n",
      "     0     0 7.5609e+08    0  116 8.1625e+08 7.5609e+08  7.37%     -   16s\n",
      "     0     0 7.5616e+08    0  121 8.1625e+08 7.5616e+08  7.36%     -   17s\n",
      "     0     0 7.5616e+08    0  121 8.1625e+08 7.5616e+08  7.36%     -   18s\n",
      "H    0     0                    8.156694e+08 7.5616e+08  7.30%     -   19s\n",
      "     0     2 7.5616e+08    0  121 8.1567e+08 7.5616e+08  7.30%     -   19s\n",
      "     1     4 7.5619e+08    1  110 8.1567e+08 7.5616e+08  7.30%   477   20s\n",
      "    29    44 7.5664e+08    5  135 8.1567e+08 7.5662e+08  7.24%  1415   25s\n",
      "H   36    44                    8.141963e+08 7.5663e+08  7.07%  1217   25s\n",
      "H   36    44                    8.141917e+08 7.5663e+08  7.07%  1217   25s\n",
      "    71    86 7.5666e+08    8  104 8.1419e+08 7.5666e+08  7.07%   978   32s\n",
      "H   78    86                    8.141729e+08 7.5666e+08  7.06%   931   32s\n",
      "   120   135 7.5670e+08   11  117 8.1417e+08 7.5670e+08  7.06%   840   44s\n",
      "   134   156 7.5693e+08   12   91 8.1417e+08 7.5670e+08  7.06%   875   45s\n",
      "   200   224 7.5683e+08   18   78 8.1417e+08 7.5675e+08  7.05%   796   50s\n",
      "   344   579 7.5731e+08   24   52 8.1417e+08 7.5681e+08  7.05%   614   56s\n",
      "   706   909 7.5720e+08   20   63 8.1417e+08 7.5683e+08  7.04%   390   61s\n",
      "  1146  1361 7.5915e+08   12   47 8.1417e+08 7.5684e+08  7.04%   312   68s\n",
      "  1368  1700 7.5725e+08   26   50 8.1417e+08 7.5685e+08  7.04%   290   72s\n",
      "  1713  1965 7.5913e+08   29   54 8.1417e+08 7.5686e+08  7.04%   263   76s\n",
      "  1979  1966 7.5784e+08   30  121 8.1417e+08 7.5686e+08  7.04%   250   81s\n",
      "  1996  1977 7.5688e+08   18  111 8.1417e+08 7.5686e+08  7.04%   247   85s\n",
      "  2005  1983 7.5785e+08   42  133 8.1417e+08 7.5689e+08  7.04%   246   96s\n",
      "\n",
      "Cutting planes:\n",
      "  Gomory: 1\n",
      "  Lift-and-project: 73\n",
      "  Implied bound: 578\n",
      "  MIR: 93\n",
      "  Flow cover: 71\n",
      "  Flow path: 40\n",
      "  Network: 16\n",
      "  RLT: 11\n",
      "  Relax-and-lift: 14\n",
      "  PSD: 23\n",
      "\n",
      "Explored 2008 nodes (514508 simplex iterations) in 99.06 seconds (149.57 work units)\n",
      "Thread count was 20 (of 20 available processors)\n",
      "\n",
      "Solution count 10: 8.14173e+08 8.14192e+08 8.14196e+08 ... 1.38814e+09\n",
      "\n",
      "Optimal solution found (tolerance 7.00e-02)\n",
      "Best objective 8.141728540025e+08, best bound 7.571963090981e+08, gap 6.9981%\n"
     ]
    }
   ],
   "source": [
    "m.params.LogToConsole = 1\n",
    "m.params.MIPgap = 0.07\n",
    "m.params.ScaleFlag = 1\n",
    "m.params.MIPFocus = 3\n",
    "m.params.BranchDir = -1\n",
    "#m.params.FlowCoverCuts = 2\n",
    "m.params.Cuts = 3\n",
    "m.params.NumericFocus = 1\n",
    "\n",
    "m.update()\n",
    "m.optimize()"
   ]
  },
  {
   "cell_type": "code",
   "execution_count": null,
   "metadata": {},
   "outputs": [],
   "source": [
    "# m.computeIIS()"
   ]
  },
  {
   "cell_type": "code",
   "execution_count": 45,
   "metadata": {},
   "outputs": [],
   "source": [
    "hub_to_plant = [m.getVarByName(f\"h_to_p[{i},{j}]\").X for i in hubs.index for j in plants.index]\n",
    "county_to_hub = [m.getVarByName(f\"c_to_h[{i},{j}]\").X for i in suppliers.index for j in hubs.index]\n",
    "yplant = [m.getVarByName(f\"yplant[{i}]\").X for i in plants.index]\n",
    "yhub = [m.getVarByName(f\"yhub[{i}]\").X for i in hubs.index]\n",
    "ytrain = [m.getVarByName(f\"ytrain[{i},{j}]\").X for i in hubs.index for j in plants.index]\n",
    "ytruck = [m.getVarByName(f\"ytruck[{i},{j}]\").X for i in suppliers.index for j in hubs.index]"
   ]
  },
  {
   "cell_type": "code",
   "execution_count": 46,
   "metadata": {},
   "outputs": [
    {
     "name": "stdout",
     "output_type": "stream",
     "text": [
      "1.173386322460577\n"
     ]
    }
   ],
   "source": [
    "cost_per_litre = m.getObjective().getValue()/(sum(hub_to_plant)*232)\n",
    "print(cost_per_litre)"
   ]
  },
  {
   "cell_type": "code",
   "execution_count": 47,
   "metadata": {},
   "outputs": [
    {
     "data": {
      "text/plain": [
       "8382.0"
      ]
     },
     "execution_count": 47,
     "metadata": {},
     "output_type": "execute_result"
    }
   ],
   "source": [
    "sum(ytruck)"
   ]
  },
  {
   "cell_type": "code",
   "execution_count": 48,
   "metadata": {},
   "outputs": [
    {
     "data": {
      "text/plain": [
       "2990801.650603257"
      ]
     },
     "execution_count": 48,
     "metadata": {},
     "output_type": "execute_result"
    }
   ],
   "source": [
    "sum(county_to_hub)"
   ]
  },
  {
   "cell_type": "code",
   "execution_count": 49,
   "metadata": {},
   "outputs": [
    {
     "data": {
      "text/plain": [
       "693865982.9399999"
      ]
     },
     "execution_count": 49,
     "metadata": {},
     "output_type": "execute_result"
    }
   ],
   "source": [
    "sum(hub_to_plant)*232"
   ]
  },
  {
   "cell_type": "code",
   "execution_count": 50,
   "metadata": {},
   "outputs": [
    {
     "data": {
      "text/plain": [
       "708383628.3169292"
      ]
     },
     "execution_count": 50,
     "metadata": {},
     "output_type": "execute_result"
    }
   ],
   "source": [
    "suppliers['supply'].sum()*232"
   ]
  },
  {
   "cell_type": "code",
   "execution_count": 51,
   "metadata": {},
   "outputs": [
    {
     "data": {
      "text/plain": [
       "(array([ 501, 1115, 1323, 2002, 2405, 2505, 2806, 3327, 3741, 4841, 5144],\n",
       "       dtype=int64),)"
      ]
     },
     "execution_count": 51,
     "metadata": {},
     "output_type": "execute_result"
    }
   ],
   "source": [
    "np.nonzero(hub_to_plant)"
   ]
  },
  {
   "cell_type": "code",
   "execution_count": 52,
   "metadata": {},
   "outputs": [
    {
     "data": {
      "text/plain": [
       "(array([  30,   40,   96,  127,  151,  187,  226,  247,  271,  300,  345,\n",
       "         385,  424,  444,  490,  498,  535,  576,  608,  643,  690,  748,\n",
       "         787,  795,  840,  861,  902,  935,  964,  976, 1018, 1037, 1078,\n",
       "        1103, 1144, 1171, 1218, 1243, 1273, 1294, 1327, 1372, 1400, 1441,\n",
       "        1468, 1488, 1537, 1554, 1598, 1632, 1672, 1690, 1719, 1756, 1862,\n",
       "        1867, 1888, 1936, 1961, 1994, 2024, 2053, 2107, 2134, 2173, 2197,\n",
       "        2218, 2247, 2307, 2362, 2391, 2423, 2453, 2482, 2530, 2563, 2590,\n",
       "        2621, 2670, 2684, 2713, 2755, 2779, 2808, 2841, 2845, 2882, 2915,\n",
       "        2959, 2984, 3033, 3052, 3080, 3124, 3157, 3183, 3187, 3223, 3256,\n",
       "        3283, 3316, 3363, 3406, 3435, 3487, 3528, 3559, 3579, 3604, 3649,\n",
       "        3677, 3726, 3736, 3809, 3850, 3864, 3913, 3938, 3976, 4042, 4087,\n",
       "        4120, 4144, 4165, 4202, 4219, 4238, 4260, 4318, 4330, 4359, 4392,\n",
       "        4429, 4466, 4516, 4543, 4568, 4594, 4635, 4681, 4697, 4730, 4735,\n",
       "        4782, 4801, 4848, 4873, 4912, 4920, 4990, 5023, 5052, 5097, 5143,\n",
       "        5178, 5195, 5221, 5250, 5291, 5341, 5374, 5382, 5419, 5460, 5481,\n",
       "        5518, 5563, 5593, 5632, 5657, 5698, 5739, 5772, 5791, 5815, 5869,\n",
       "        5896, 5929, 5956, 5992, 6036, 6058, 6154, 6193, 6251, 6292, 6306,\n",
       "        6339, 6383, 6463, 6490, 6531, 6548, 6574, 6630, 6663, 6696, 6715,\n",
       "        6760, 6768, 6801, 6838, 6871, 6927, 6993, 7015, 7057, 7081, 7102,\n",
       "        7135, 7164, 7216, 7246, 7267, 7296, 7333, 7378, 7406, 7428, 7473,\n",
       "        7521, 7540, 7571, 7587, 7593, 7626, 7634, 7659, 7703, 7733, 7785,\n",
       "        7804, 7828, 7870, 7915, 7936, 7975, 8008, 8041, 8080, 8100, 8129,\n",
       "        8203, 8231, 8257, 8302, 8344, 8360], dtype=int64),)"
      ]
     },
     "execution_count": 52,
     "metadata": {},
     "output_type": "execute_result"
    }
   ],
   "source": [
    "np.nonzero(county_to_hub)"
   ]
  },
  {
   "cell_type": "code",
   "execution_count": 53,
   "metadata": {},
   "outputs": [],
   "source": [
    "# roads_copy = roads.copy()\n",
    "# roads_copy['c_to_h'] = c_to_h.gppd.X.to_frame()\n",
    "# roads_copy = roads_copy.groupby('county').sum()"
   ]
  },
  {
   "cell_type": "code",
   "execution_count": 54,
   "metadata": {},
   "outputs": [],
   "source": [
    "# roads_copy['supply'] = suppliers['supply'].copy()"
   ]
  },
  {
   "cell_type": "code",
   "execution_count": 55,
   "metadata": {},
   "outputs": [],
   "source": [
    "# vio_list = []\n",
    "# for index, row in roads_copy.iterrows():\n",
    "#     if row['c_to_h'] > row['supply']+0.0001:\n",
    "#         vio_list.append(index)"
   ]
  },
  {
   "cell_type": "code",
   "execution_count": 56,
   "metadata": {},
   "outputs": [
    {
     "data": {
      "text/html": [
       "<div>\n",
       "<style scoped>\n",
       "    .dataframe tbody tr th:only-of-type {\n",
       "        vertical-align: middle;\n",
       "    }\n",
       "\n",
       "    .dataframe tbody tr th {\n",
       "        vertical-align: top;\n",
       "    }\n",
       "\n",
       "    .dataframe thead th {\n",
       "        text-align: right;\n",
       "    }\n",
       "</style>\n",
       "<table border=\"1\" class=\"dataframe\">\n",
       "  <thead>\n",
       "    <tr style=\"text-align: right;\">\n",
       "      <th></th>\n",
       "      <th>index</th>\n",
       "      <th>distance</th>\n",
       "      <th>cost</th>\n",
       "      <th>c_to_h</th>\n",
       "      <th>supply</th>\n",
       "    </tr>\n",
       "    <tr>\n",
       "      <th>county</th>\n",
       "      <th></th>\n",
       "      <th></th>\n",
       "      <th></th>\n",
       "      <th></th>\n",
       "      <th></th>\n",
       "    </tr>\n",
       "  </thead>\n",
       "  <tbody>\n",
       "  </tbody>\n",
       "</table>\n",
       "</div>"
      ],
      "text/plain": [
       "Empty DataFrame\n",
       "Columns: [index, distance, cost, c_to_h, supply]\n",
       "Index: []"
      ]
     },
     "execution_count": 56,
     "metadata": {},
     "output_type": "execute_result"
    }
   ],
   "source": [
    "# roads_copy.loc[vio_list]"
   ]
  },
  {
   "cell_type": "code",
   "execution_count": 57,
   "metadata": {},
   "outputs": [
    {
     "data": {
      "text/plain": [
       "693865982.9399999"
      ]
     },
     "execution_count": 57,
     "metadata": {},
     "output_type": "execute_result"
    }
   ],
   "source": [
    "sum(hub_to_plant)*232"
   ]
  },
  {
   "cell_type": "code",
   "execution_count": 58,
   "metadata": {},
   "outputs": [
    {
     "data": {
      "text/plain": [
       "10.0"
      ]
     },
     "execution_count": 58,
     "metadata": {},
     "output_type": "execute_result"
    }
   ],
   "source": [
    "sum(yhub)"
   ]
  },
  {
   "cell_type": "code",
   "execution_count": 59,
   "metadata": {},
   "outputs": [
    {
     "data": {
      "text/plain": [
       "[-0.0,\n",
       " -0.0,\n",
       " -0.0,\n",
       " 1.0,\n",
       " 0.0,\n",
       " 0.0,\n",
       " -0.0,\n",
       " 1.0,\n",
       " -0.0,\n",
       " 0.0,\n",
       " 0.0,\n",
       " 1.0,\n",
       " -0.0,\n",
       " 0.0,\n",
       " 1.0,\n",
       " 1.0,\n",
       " 1.0,\n",
       " 0.0,\n",
       " -0.0,\n",
       " 1.0,\n",
       " -0.0,\n",
       " 0.0,\n",
       " 1.0,\n",
       " 0.0,\n",
       " -0.0,\n",
       " 0.0,\n",
       " 0.0,\n",
       " -0.0,\n",
       " 1.0,\n",
       " -0.0,\n",
       " 1.0,\n",
       " -0.0,\n",
       " -0.0]"
      ]
     },
     "execution_count": 59,
     "metadata": {},
     "output_type": "execute_result"
    }
   ],
   "source": [
    "yhub"
   ]
  },
  {
   "cell_type": "code",
   "execution_count": 60,
   "metadata": {},
   "outputs": [
    {
     "data": {
      "text/plain": [
       "5.0"
      ]
     },
     "execution_count": 60,
     "metadata": {},
     "output_type": "execute_result"
    }
   ],
   "source": [
    "sum(yplant)"
   ]
  }
 ],
 "metadata": {
  "kernelspec": {
   "display_name": "Python 3",
   "language": "python",
   "name": "python3"
  },
  "language_info": {
   "codemirror_mode": {
    "name": "ipython",
    "version": 3
   },
   "file_extension": ".py",
   "mimetype": "text/x-python",
   "name": "python",
   "nbconvert_exporter": "python",
   "pygments_lexer": "ipython3",
   "version": "3.10.11"
  }
 },
 "nbformat": 4,
 "nbformat_minor": 2
}
