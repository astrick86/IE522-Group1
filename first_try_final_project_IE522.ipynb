{
 "cells": [
  {
   "cell_type": "code",
   "execution_count": 1,
   "metadata": {},
   "outputs": [],
   "source": [
    "import pandas as pd\n",
    "import gurobipy as gp\n",
    "from gurobipy import GRB\n",
    "import numpy as np\n",
    "import gurobipy_pandas as gppd\n",
    "\n",
    "# set intercative mode\n",
    "gppd.set_interactive()"
   ]
  },
  {
   "cell_type": "code",
   "execution_count": 2,
   "metadata": {},
   "outputs": [],
   "source": [
    "# importing data\n",
    "hubs = pd.read_csv(r\"D:\\1. UTK PhD\\Fall 23\\IE 522\\Final Project\\OneDrive_1_12-5-2023\\TX_hubs.csv\")\n",
    "network = pd.read_csv(r\"D:\\1. UTK PhD\\Fall 23\\IE 522\\Final Project\\OneDrive_1_12-5-2023\\TX_network.csv\")\n",
    "plants = pd.read_csv(r\"D:\\1. UTK PhD\\Fall 23\\IE 522\\Final Project\\OneDrive_1_12-5-2023\\TX_plants.csv\")\n",
    "roads = pd.read_csv(r\"D:\\1. UTK PhD\\Fall 23\\IE 522\\Final Project\\OneDrive_1_12-5-2023\\TX_roads.csv\")\n",
    "suppliers = pd.read_csv(r\"D:\\1. UTK PhD\\Fall 23\\IE 522\\Final Project\\OneDrive_1_12-5-2023\\TX_suppliers.csv\")\n",
    "railroads = pd.read_csv(r\"D:\\1. UTK PhD\\Fall 23\\IE 522\\Final Project\\OneDrive_1_12-5-2023\\TX_railroads.csv\")"
   ]
  },
  {
   "cell_type": "code",
   "execution_count": 3,
   "metadata": {},
   "outputs": [
    {
     "data": {
      "text/html": [
       "<div>\n",
       "<style scoped>\n",
       "    .dataframe tbody tr th:only-of-type {\n",
       "        vertical-align: middle;\n",
       "    }\n",
       "\n",
       "    .dataframe tbody tr th {\n",
       "        vertical-align: top;\n",
       "    }\n",
       "\n",
       "    .dataframe thead th {\n",
       "        text-align: right;\n",
       "    }\n",
       "</style>\n",
       "<table border=\"1\" class=\"dataframe\">\n",
       "  <thead>\n",
       "    <tr style=\"text-align: right;\">\n",
       "      <th></th>\n",
       "      <th>index</th>\n",
       "      <th>latitude</th>\n",
       "      <th>longitude</th>\n",
       "      <th>invest</th>\n",
       "      <th>capacity</th>\n",
       "    </tr>\n",
       "    <tr>\n",
       "      <th>hub</th>\n",
       "      <th></th>\n",
       "      <th></th>\n",
       "      <th></th>\n",
       "      <th></th>\n",
       "      <th></th>\n",
       "    </tr>\n",
       "  </thead>\n",
       "  <tbody>\n",
       "    <tr>\n",
       "      <th>17201</th>\n",
       "      <td>1</td>\n",
       "      <td>33.64844</td>\n",
       "      <td>-95.56841</td>\n",
       "      <td>3476219</td>\n",
       "      <td>300000</td>\n",
       "    </tr>\n",
       "    <tr>\n",
       "      <th>17218</th>\n",
       "      <td>2</td>\n",
       "      <td>33.64124</td>\n",
       "      <td>-96.60666</td>\n",
       "      <td>3476219</td>\n",
       "      <td>300000</td>\n",
       "    </tr>\n",
       "    <tr>\n",
       "      <th>17359</th>\n",
       "      <td>3</td>\n",
       "      <td>29.31990</td>\n",
       "      <td>-96.10283</td>\n",
       "      <td>3476219</td>\n",
       "      <td>300000</td>\n",
       "    </tr>\n",
       "    <tr>\n",
       "      <th>17372</th>\n",
       "      <td>4</td>\n",
       "      <td>30.75623</td>\n",
       "      <td>-98.67770</td>\n",
       "      <td>3476219</td>\n",
       "      <td>300000</td>\n",
       "    </tr>\n",
       "    <tr>\n",
       "      <th>17395</th>\n",
       "      <td>5</td>\n",
       "      <td>30.84636</td>\n",
       "      <td>-96.98711</td>\n",
       "      <td>3476219</td>\n",
       "      <td>300000</td>\n",
       "    </tr>\n",
       "  </tbody>\n",
       "</table>\n",
       "</div>"
      ],
      "text/plain": [
       "       index  latitude  longitude   invest  capacity\n",
       "hub                                                 \n",
       "17201      1  33.64844  -95.56841  3476219    300000\n",
       "17218      2  33.64124  -96.60666  3476219    300000\n",
       "17359      3  29.31990  -96.10283  3476219    300000\n",
       "17372      4  30.75623  -98.67770  3476219    300000\n",
       "17395      5  30.84636  -96.98711  3476219    300000"
      ]
     },
     "execution_count": 3,
     "metadata": {},
     "output_type": "execute_result"
    }
   ],
   "source": [
    "hubs.set_index('hub', inplace=True)\n",
    "hubs.head()"
   ]
  },
  {
   "cell_type": "code",
   "execution_count": 4,
   "metadata": {},
   "outputs": [
    {
     "data": {
      "text/html": [
       "<div>\n",
       "<style scoped>\n",
       "    .dataframe tbody tr th:only-of-type {\n",
       "        vertical-align: middle;\n",
       "    }\n",
       "\n",
       "    .dataframe tbody tr th {\n",
       "        vertical-align: top;\n",
       "    }\n",
       "\n",
       "    .dataframe thead th {\n",
       "        text-align: right;\n",
       "    }\n",
       "</style>\n",
       "<table border=\"1\" class=\"dataframe\">\n",
       "  <thead>\n",
       "    <tr style=\"text-align: right;\">\n",
       "      <th></th>\n",
       "      <th>counties</th>\n",
       "      <th>hubs</th>\n",
       "      <th>plants</th>\n",
       "      <th>techs</th>\n",
       "      <th>demand</th>\n",
       "    </tr>\n",
       "  </thead>\n",
       "  <tbody>\n",
       "    <tr>\n",
       "      <th>0</th>\n",
       "      <td>254</td>\n",
       "      <td>33</td>\n",
       "      <td>167</td>\n",
       "      <td>1</td>\n",
       "      <td>1476310602</td>\n",
       "    </tr>\n",
       "  </tbody>\n",
       "</table>\n",
       "</div>"
      ],
      "text/plain": [
       "   counties  hubs  plants  techs      demand\n",
       "0       254    33     167      1  1476310602"
      ]
     },
     "execution_count": 4,
     "metadata": {},
     "output_type": "execute_result"
    }
   ],
   "source": [
    "network.head()"
   ]
  },
  {
   "cell_type": "code",
   "execution_count": 5,
   "metadata": {},
   "outputs": [
    {
     "data": {
      "text/html": [
       "<div>\n",
       "<style scoped>\n",
       "    .dataframe tbody tr th:only-of-type {\n",
       "        vertical-align: middle;\n",
       "    }\n",
       "\n",
       "    .dataframe tbody tr th {\n",
       "        vertical-align: top;\n",
       "    }\n",
       "\n",
       "    .dataframe thead th {\n",
       "        text-align: right;\n",
       "    }\n",
       "</style>\n",
       "<table border=\"1\" class=\"dataframe\">\n",
       "  <thead>\n",
       "    <tr style=\"text-align: right;\">\n",
       "      <th></th>\n",
       "      <th>index</th>\n",
       "      <th>latitude</th>\n",
       "      <th>longitude</th>\n",
       "      <th>tech</th>\n",
       "      <th>invest</th>\n",
       "      <th>capacity</th>\n",
       "      <th>yield</th>\n",
       "    </tr>\n",
       "    <tr>\n",
       "      <th>plant</th>\n",
       "      <th></th>\n",
       "      <th></th>\n",
       "      <th></th>\n",
       "      <th></th>\n",
       "      <th></th>\n",
       "      <th></th>\n",
       "      <th></th>\n",
       "    </tr>\n",
       "  </thead>\n",
       "  <tbody>\n",
       "    <tr>\n",
       "      <th>541</th>\n",
       "      <td>1</td>\n",
       "      <td>30.220353</td>\n",
       "      <td>-97.740436</td>\n",
       "      <td>1</td>\n",
       "      <td>130956797</td>\n",
       "      <td>152063705</td>\n",
       "      <td>232</td>\n",
       "    </tr>\n",
       "    <tr>\n",
       "      <th>542</th>\n",
       "      <td>2</td>\n",
       "      <td>29.676724</td>\n",
       "      <td>-98.635234</td>\n",
       "      <td>1</td>\n",
       "      <td>130956797</td>\n",
       "      <td>152063705</td>\n",
       "      <td>232</td>\n",
       "    </tr>\n",
       "    <tr>\n",
       "      <th>543</th>\n",
       "      <td>3</td>\n",
       "      <td>33.760315</td>\n",
       "      <td>-96.559867</td>\n",
       "      <td>1</td>\n",
       "      <td>130956797</td>\n",
       "      <td>152063705</td>\n",
       "      <td>232</td>\n",
       "    </tr>\n",
       "    <tr>\n",
       "      <th>544</th>\n",
       "      <td>4</td>\n",
       "      <td>29.531920</td>\n",
       "      <td>-98.286901</td>\n",
       "      <td>1</td>\n",
       "      <td>130956797</td>\n",
       "      <td>152063705</td>\n",
       "      <td>232</td>\n",
       "    </tr>\n",
       "    <tr>\n",
       "      <th>545</th>\n",
       "      <td>5</td>\n",
       "      <td>29.688568</td>\n",
       "      <td>-98.562424</td>\n",
       "      <td>1</td>\n",
       "      <td>130956797</td>\n",
       "      <td>152063705</td>\n",
       "      <td>232</td>\n",
       "    </tr>\n",
       "  </tbody>\n",
       "</table>\n",
       "</div>"
      ],
      "text/plain": [
       "       index   latitude  longitude  tech     invest   capacity  yield\n",
       "plant                                                                \n",
       "541        1  30.220353 -97.740436     1  130956797  152063705    232\n",
       "542        2  29.676724 -98.635234     1  130956797  152063705    232\n",
       "543        3  33.760315 -96.559867     1  130956797  152063705    232\n",
       "544        4  29.531920 -98.286901     1  130956797  152063705    232\n",
       "545        5  29.688568 -98.562424     1  130956797  152063705    232"
      ]
     },
     "execution_count": 5,
     "metadata": {},
     "output_type": "execute_result"
    }
   ],
   "source": [
    "plants.set_index('plant', inplace=True)\n",
    "plants.head()"
   ]
  },
  {
   "cell_type": "code",
   "execution_count": 6,
   "metadata": {},
   "outputs": [
    {
     "data": {
      "text/html": [
       "<div>\n",
       "<style scoped>\n",
       "    .dataframe tbody tr th:only-of-type {\n",
       "        vertical-align: middle;\n",
       "    }\n",
       "\n",
       "    .dataframe tbody tr th {\n",
       "        vertical-align: top;\n",
       "    }\n",
       "\n",
       "    .dataframe thead th {\n",
       "        text-align: right;\n",
       "    }\n",
       "</style>\n",
       "<table border=\"1\" class=\"dataframe\">\n",
       "  <thead>\n",
       "    <tr style=\"text-align: right;\">\n",
       "      <th></th>\n",
       "      <th></th>\n",
       "      <th>index</th>\n",
       "      <th>distance</th>\n",
       "      <th>cost</th>\n",
       "    </tr>\n",
       "    <tr>\n",
       "      <th>county</th>\n",
       "      <th>hub</th>\n",
       "      <th></th>\n",
       "      <th></th>\n",
       "      <th></th>\n",
       "    </tr>\n",
       "  </thead>\n",
       "  <tbody>\n",
       "    <tr>\n",
       "      <th rowspan=\"5\" valign=\"top\">48001</th>\n",
       "      <th>17201</th>\n",
       "      <td>1</td>\n",
       "      <td>219.6090</td>\n",
       "      <td>40.580691</td>\n",
       "    </tr>\n",
       "    <tr>\n",
       "      <th>17218</th>\n",
       "      <td>2</td>\n",
       "      <td>264.7658</td>\n",
       "      <td>47.661277</td>\n",
       "    </tr>\n",
       "    <tr>\n",
       "      <th>17359</th>\n",
       "      <td>3</td>\n",
       "      <td>370.6750</td>\n",
       "      <td>64.267840</td>\n",
       "    </tr>\n",
       "    <tr>\n",
       "      <th>17372</th>\n",
       "      <td>4</td>\n",
       "      <td>420.0082</td>\n",
       "      <td>72.003286</td>\n",
       "    </tr>\n",
       "    <tr>\n",
       "      <th>17395</th>\n",
       "      <td>5</td>\n",
       "      <td>199.2915</td>\n",
       "      <td>37.394907</td>\n",
       "    </tr>\n",
       "  </tbody>\n",
       "</table>\n",
       "</div>"
      ],
      "text/plain": [
       "              index  distance       cost\n",
       "county hub                              \n",
       "48001  17201      1  219.6090  40.580691\n",
       "       17218      2  264.7658  47.661277\n",
       "       17359      3  370.6750  64.267840\n",
       "       17372      4  420.0082  72.003286\n",
       "       17395      5  199.2915  37.394907"
      ]
     },
     "execution_count": 6,
     "metadata": {},
     "output_type": "execute_result"
    }
   ],
   "source": [
    "roads.set_index(['county','hub'], inplace=True)\n",
    "roads.head()"
   ]
  },
  {
   "cell_type": "code",
   "execution_count": 7,
   "metadata": {},
   "outputs": [
    {
     "data": {
      "text/html": [
       "<div>\n",
       "<style scoped>\n",
       "    .dataframe tbody tr th:only-of-type {\n",
       "        vertical-align: middle;\n",
       "    }\n",
       "\n",
       "    .dataframe tbody tr th {\n",
       "        vertical-align: top;\n",
       "    }\n",
       "\n",
       "    .dataframe thead th {\n",
       "        text-align: right;\n",
       "    }\n",
       "</style>\n",
       "<table border=\"1\" class=\"dataframe\">\n",
       "  <thead>\n",
       "    <tr style=\"text-align: right;\">\n",
       "      <th></th>\n",
       "      <th>index</th>\n",
       "      <th>supply</th>\n",
       "    </tr>\n",
       "    <tr>\n",
       "      <th>county</th>\n",
       "      <th></th>\n",
       "      <th></th>\n",
       "    </tr>\n",
       "  </thead>\n",
       "  <tbody>\n",
       "    <tr>\n",
       "      <th>48001</th>\n",
       "      <td>1.0</td>\n",
       "      <td>13131.971710</td>\n",
       "    </tr>\n",
       "    <tr>\n",
       "      <th>48003</th>\n",
       "      <td>2.0</td>\n",
       "      <td>1177.351950</td>\n",
       "    </tr>\n",
       "    <tr>\n",
       "      <th>48005</th>\n",
       "      <td>3.0</td>\n",
       "      <td>3854.618542</td>\n",
       "    </tr>\n",
       "    <tr>\n",
       "      <th>48007</th>\n",
       "      <td>4.0</td>\n",
       "      <td>308.182629</td>\n",
       "    </tr>\n",
       "    <tr>\n",
       "      <th>48009</th>\n",
       "      <td>5.0</td>\n",
       "      <td>19802.136510</td>\n",
       "    </tr>\n",
       "  </tbody>\n",
       "</table>\n",
       "</div>"
      ],
      "text/plain": [
       "        index        supply\n",
       "county                     \n",
       "48001     1.0  13131.971710\n",
       "48003     2.0   1177.351950\n",
       "48005     3.0   3854.618542\n",
       "48007     4.0    308.182629\n",
       "48009     5.0  19802.136510"
      ]
     },
     "execution_count": 7,
     "metadata": {},
     "output_type": "execute_result"
    }
   ],
   "source": [
    "# cleaning dataset by removing NA values\n",
    "suppliers.dropna(inplace=True)\n",
    "suppliers.county = suppliers.county.astype(int)\n",
    "suppliers.set_index('county',inplace=True)\n",
    "suppliers.head()"
   ]
  },
  {
   "cell_type": "code",
   "execution_count": 8,
   "metadata": {},
   "outputs": [
    {
     "data": {
      "text/html": [
       "<div>\n",
       "<style scoped>\n",
       "    .dataframe tbody tr th:only-of-type {\n",
       "        vertical-align: middle;\n",
       "    }\n",
       "\n",
       "    .dataframe tbody tr th {\n",
       "        vertical-align: top;\n",
       "    }\n",
       "\n",
       "    .dataframe thead th {\n",
       "        text-align: right;\n",
       "    }\n",
       "</style>\n",
       "<table border=\"1\" class=\"dataframe\">\n",
       "  <thead>\n",
       "    <tr style=\"text-align: right;\">\n",
       "      <th></th>\n",
       "      <th></th>\n",
       "      <th>index</th>\n",
       "      <th>distance</th>\n",
       "      <th>cost</th>\n",
       "      <th>loading</th>\n",
       "      <th>capacity</th>\n",
       "    </tr>\n",
       "    <tr>\n",
       "      <th>hub</th>\n",
       "      <th>plant</th>\n",
       "      <th></th>\n",
       "      <th></th>\n",
       "      <th></th>\n",
       "      <th></th>\n",
       "      <th></th>\n",
       "    </tr>\n",
       "  </thead>\n",
       "  <tbody>\n",
       "    <tr>\n",
       "      <th rowspan=\"5\" valign=\"top\">17201</th>\n",
       "      <th>541</th>\n",
       "      <td>1</td>\n",
       "      <td>922.023251</td>\n",
       "      <td>17.095711</td>\n",
       "      <td>3066792</td>\n",
       "      <td>338000</td>\n",
       "    </tr>\n",
       "    <tr>\n",
       "      <th>542</th>\n",
       "      <td>2</td>\n",
       "      <td>1160.842967</td>\n",
       "      <td>20.923752</td>\n",
       "      <td>3066792</td>\n",
       "      <td>338000</td>\n",
       "    </tr>\n",
       "    <tr>\n",
       "      <th>543</th>\n",
       "      <td>3</td>\n",
       "      <td>186.924258</td>\n",
       "      <td>5.312809</td>\n",
       "      <td>3066792</td>\n",
       "      <td>338000</td>\n",
       "    </tr>\n",
       "    <tr>\n",
       "      <th>544</th>\n",
       "      <td>4</td>\n",
       "      <td>1074.699073</td>\n",
       "      <td>19.542951</td>\n",
       "      <td>3066792</td>\n",
       "      <td>338000</td>\n",
       "    </tr>\n",
       "    <tr>\n",
       "      <th>545</th>\n",
       "      <td>5</td>\n",
       "      <td>1160.842967</td>\n",
       "      <td>20.923752</td>\n",
       "      <td>3066792</td>\n",
       "      <td>338000</td>\n",
       "    </tr>\n",
       "  </tbody>\n",
       "</table>\n",
       "</div>"
      ],
      "text/plain": [
       "             index     distance       cost  loading  capacity\n",
       "hub   plant                                                  \n",
       "17201 541        1   922.023251  17.095711  3066792    338000\n",
       "      542        2  1160.842967  20.923752  3066792    338000\n",
       "      543        3   186.924258   5.312809  3066792    338000\n",
       "      544        4  1074.699073  19.542951  3066792    338000\n",
       "      545        5  1160.842967  20.923752  3066792    338000"
      ]
     },
     "execution_count": 8,
     "metadata": {},
     "output_type": "execute_result"
    }
   ],
   "source": [
    "railroads.set_index(['hub','plant'], inplace=True)\n",
    "railroads.head()"
   ]
  },
  {
   "cell_type": "code",
   "execution_count": 9,
   "metadata": {},
   "outputs": [
    {
     "name": "stdout",
     "output_type": "stream",
     "text": [
      "Set parameter Username\n",
      "Academic license - for non-commercial use only - expires 2024-04-17\n"
     ]
    }
   ],
   "source": [
    "# create gurobi model\n",
    "m = gp.Model()"
   ]
  },
  {
   "cell_type": "code",
   "execution_count": 10,
   "metadata": {},
   "outputs": [],
   "source": [
    "### Variables\n",
    "yhub = gppd.add_vars(m, hubs, name='yhub', vtype=GRB.BINARY, lb=0)\n",
    "yplant = gppd.add_vars(m, plants, name='yplant', vtype=GRB.BINARY, lb=0)\n",
    "ytruck = gppd.add_vars(m, roads, name='ytruck', vtype=GRB.BINARY, lb=0)\n",
    "ytrain = gppd.add_vars(m, railroads, name='ytrain', vtype=GRB.BINARY, lb=0)\n",
    "\n",
    "c_to_h = gppd.add_vars(m, roads, name='c_to_h', vtype=GRB.CONTINUOUS, lb=0) # Flow from County to hub\n",
    "h_to_p = gppd.add_vars(m, railroads, name='h_to_p', vtype=GRB.CONTINUOUS, lb=0) # Flow from hub to plant\n",
    "\n",
    "x_out = m.addVar(vtype=GRB.CONTINUOUS, name='outside_supply', lb=0)"
   ]
  },
  {
   "cell_type": "code",
   "execution_count": 11,
   "metadata": {},
   "outputs": [],
   "source": [
    "### parameters\n",
    "\"\"\"\n",
    "demand = network['demand]\n",
    "yield = plants['yield']\n",
    "cplant = plants['invest']\n",
    "chub = hubs['invest']\n",
    "\"\"\"\n",
    "M = 500000\n",
    "# fuel from external source"
   ]
  },
  {
   "cell_type": "code",
   "execution_count": 12,
   "metadata": {},
   "outputs": [],
   "source": [
    "### Objective\n",
    "# m.setObjective((plants['invest'] * yplant).sum() + (hubs['invest'] * yhub).sum() + (ytruck * c_to_h * roads['cost']).sum() \\\n",
    "#                + (ytrain * railroads['cost']).sum() + (ytrain * h_to_p * railroads['loading']).sum(), \n",
    "#                GRB.MINIMIZE)"
   ]
  },
  {
   "cell_type": "code",
   "execution_count": 13,
   "metadata": {},
   "outputs": [],
   "source": [
    "### Highest possible demand that can be met by the network\n",
    "m.setObjective((yplant * plants['yield'] * h_to_p.groupby('plant').sum()).sum(), GRB.MAXIMIZE)"
   ]
  },
  {
   "cell_type": "code",
   "execution_count": 14,
   "metadata": {},
   "outputs": [],
   "source": [
    "### Constraints\n",
    "# flow conservation through hub\n",
    "flow_hub = gppd.add_constrs(m,\n",
    "                            c_to_h.groupby('hub').sum(),\n",
    "                            GRB.EQUAL,\n",
    "                            h_to_p.groupby('hub').sum(),\n",
    "                            name='hub_flow'\n",
    "                            )"
   ]
  },
  {
   "cell_type": "code",
   "execution_count": 15,
   "metadata": {},
   "outputs": [],
   "source": [
    "# hub capacity\n",
    "cap_hub = gppd.add_constrs(m,\n",
    "                           c_to_h.groupby('hub').sum(),\n",
    "                           GRB.LESS_EQUAL,\n",
    "                           hubs['capacity']*yhub,\n",
    "                           name='hub_capacity'\n",
    "                           )"
   ]
  },
  {
   "cell_type": "code",
   "execution_count": 16,
   "metadata": {},
   "outputs": [],
   "source": [
    "# train capacity\n",
    "cap_train = gppd.add_constrs(m,\n",
    "                           h_to_p,\n",
    "                           GRB.LESS_EQUAL,\n",
    "                           railroads['capacity']*ytrain,\n",
    "                           name='train_capacity'\n",
    "                           )"
   ]
  },
  {
   "cell_type": "code",
   "execution_count": 17,
   "metadata": {},
   "outputs": [],
   "source": [
    "# supplier (county) capacity\n",
    "cap_county = gppd.add_constrs(m,\n",
    "                           (c_to_h).groupby('county').sum(),\n",
    "                           GRB.LESS_EQUAL,\n",
    "                           suppliers['supply'],\n",
    "                           name='suppliers_supply'\n",
    "                           )"
   ]
  },
  {
   "cell_type": "code",
   "execution_count": 18,
   "metadata": {},
   "outputs": [],
   "source": [
    "# delivery by truck\n",
    "truck_delivery = gppd.add_constrs(m,\n",
    "                           c_to_h,\n",
    "                           GRB.LESS_EQUAL,\n",
    "                           M*ytruck,\n",
    "                           name='truck_binary'\n",
    "                           )\n",
    "\n",
    "# delivery by train\n",
    "cap_train = gppd.add_constrs(m,\n",
    "                           h_to_p,\n",
    "                           GRB.LESS_EQUAL,\n",
    "                           M*ytrain,\n",
    "                           name='train_binary'\n",
    "                           )"
   ]
  },
  {
   "cell_type": "code",
   "execution_count": 19,
   "metadata": {},
   "outputs": [],
   "source": [
    "# plant capacity\n",
    "cap_plant = gppd.add_constrs(m,\n",
    "                           plants['yield'] * h_to_p.groupby('plant').sum(),\n",
    "                           GRB.LESS_EQUAL,\n",
    "                           plants['capacity']*yplant,\n",
    "                           name='plant_capacity'\n",
    "                           )"
   ]
  },
  {
   "cell_type": "code",
   "execution_count": 20,
   "metadata": {},
   "outputs": [],
   "source": [
    "# demand\n",
    "# demand_constraint = gppd.add_constrs(m,\n",
    "#                                      (yplant * plants['yield'] * h_to_p.groupby('plant').sum()).sum(),\n",
    "#                                      GRB.GREATER_EQUAL,\n",
    "#                                      network['demand']*0.45,\n",
    "#                                      name='network_demand'\n",
    "#                                      )"
   ]
  },
  {
   "cell_type": "code",
   "execution_count": 21,
   "metadata": {},
   "outputs": [],
   "source": [
    "# write the model\n",
    "m.write(\"supply_chain_biofuel.lp\")"
   ]
  },
  {
   "cell_type": "code",
   "execution_count": 22,
   "metadata": {},
   "outputs": [
    {
     "name": "stdout",
     "output_type": "stream",
     "text": [
      "Set parameter NumericFocus to value 2\n",
      "Gurobi Optimizer version 10.0.1 build v10.0.1rc0 (win64)\n",
      "\n",
      "CPU model: 12th Gen Intel(R) Core(TM) i7-12700H, instruction set [SSE2|AVX|AVX2]\n",
      "Thread count: 14 physical cores, 20 logical processors, using up to 20 threads\n",
      "\n",
      "Optimize a model with 19891 rows, 27987 columns and 75176 nonzeros\n",
      "Model fingerprint: 0xbafa7dad\n",
      "Model has 5511 quadratic objective terms\n",
      "Variable types: 13894 continuous, 14093 integer (14093 binary)\n",
      "Coefficient statistics:\n",
      "  Matrix range     [1e+00, 2e+08]\n",
      "  Objective range  [0e+00, 0e+00]\n",
      "  QObjective range [5e+02, 5e+02]\n",
      "  Bounds range     [1e+00, 1e+00]\n",
      "  RHS range        [8e-01, 5e+04]\n",
      "Warning: Model contains large matrix coefficients\n",
      "Found heuristic solution: objective -0.0000000\n",
      "Presolve removed 19891 rows and 27987 columns\n",
      "Presolve time: 0.02s\n",
      "Presolve: All rows and columns removed\n",
      "\n",
      "Explored 0 nodes (0 simplex iterations) in 0.05 seconds (0.04 work units)\n",
      "Thread count was 1 (of 20 available processors)\n",
      "\n",
      "Solution count 2: 7.08384e+08 -0 \n",
      "\n",
      "Optimal solution found (tolerance 1.00e-04)\n",
      "Best objective 7.083836283169e+08, best bound 7.083836283169e+08, gap 0.0000%\n"
     ]
    }
   ],
   "source": [
    "m.params.LogToConsole = 1\n",
    "#m.params.MIPgap = 0.05\n",
    "m.params.NumericFocus = 2\n",
    "\n",
    "m.update()\n",
    "m.optimize()"
   ]
  },
  {
   "cell_type": "code",
   "execution_count": null,
   "metadata": {},
   "outputs": [],
   "source": [
    "# m.computeIIS()"
   ]
  },
  {
   "cell_type": "code",
   "execution_count": 25,
   "metadata": {},
   "outputs": [
    {
     "data": {
      "text/plain": [
       "708383628.3169078"
      ]
     },
     "execution_count": 25,
     "metadata": {},
     "output_type": "execute_result"
    }
   ],
   "source": [
    "m.getObjective().getValue()"
   ]
  },
  {
   "cell_type": "code",
   "execution_count": 22,
   "metadata": {},
   "outputs": [],
   "source": [
    "hub_to_plant = [m.getVarByName(f\"h_to_p[{i},{j}]\").X for i in hubs.index for j in plants.index]\n",
    "county_to_hub = [m.getVarByName(f\"c_to_h[{i},{j}]\").X for i in suppliers.index for j in hubs.index]\n",
    "yplant = [m.getVarByName(f\"yplant[{i}]\").X for i in plants.index]\n",
    "yhub = [m.getVarByName(f\"yhub[{i}]\").X for i in hubs.index]\n",
    "ytrain = [m.getVarByName(f\"ytrain[{i},{j}]\").X for i in hubs.index for j in plants.index]\n",
    "ytruck = [m.getVarByName(f\"ytruck[{i},{j}]\").X for i in suppliers.index for j in hubs.index]"
   ]
  },
  {
   "cell_type": "code",
   "execution_count": 23,
   "metadata": {},
   "outputs": [
    {
     "data": {
      "text/plain": [
       "8184.0"
      ]
     },
     "execution_count": 23,
     "metadata": {},
     "output_type": "execute_result"
    }
   ],
   "source": [
    "sum(ytruck)"
   ]
  },
  {
   "cell_type": "code",
   "execution_count": 24,
   "metadata": {},
   "outputs": [
    {
     "data": {
      "text/plain": [
       "2863533.495258799"
      ]
     },
     "execution_count": 24,
     "metadata": {},
     "output_type": "execute_result"
    }
   ],
   "source": [
    "sum(county_to_hub)"
   ]
  },
  {
   "cell_type": "code",
   "execution_count": 27,
   "metadata": {},
   "outputs": [
    {
     "data": {
      "text/plain": [
       "664339770.9000001"
      ]
     },
     "execution_count": 27,
     "metadata": {},
     "output_type": "execute_result"
    }
   ],
   "source": [
    "sum(hub_to_plant)*232"
   ]
  },
  {
   "cell_type": "code",
   "execution_count": 26,
   "metadata": {},
   "outputs": [
    {
     "data": {
      "text/plain": [
       "708383628.3169292"
      ]
     },
     "execution_count": 26,
     "metadata": {},
     "output_type": "execute_result"
    }
   ],
   "source": [
    "suppliers['supply'].sum()*232"
   ]
  },
  {
   "cell_type": "code",
   "execution_count": 50,
   "metadata": {},
   "outputs": [
    {
     "data": {
      "text/plain": [
       "(array([ 304,  468, 1059, 2002, 2475, 2806, 3143, 3672, 4309, 4410, 4674,\n",
       "        5209, 5314], dtype=int64),)"
      ]
     },
     "execution_count": 50,
     "metadata": {},
     "output_type": "execute_result"
    }
   ],
   "source": [
    "np.nonzero(hub_to_plant)"
   ]
  },
  {
   "cell_type": "code",
   "execution_count": 24,
   "metadata": {},
   "outputs": [
    {
     "data": {
      "text/plain": [
       "(array([  0,   1,   2,   3,   4,   5,   6,   7,   8,   9,  10,  11,  12,\n",
       "         13,  14,  15,  16,  17,  18,  19,  20,  21,  22,  23,  24,  25,\n",
       "         26,  27,  28,  29,  30,  31,  32,  33,  34,  35,  36,  37,  38,\n",
       "         39,  40,  41,  42,  43,  44,  45,  46,  47,  48,  49,  50,  51,\n",
       "         52,  53,  54,  55,  56,  57,  58,  59,  60,  61,  62,  63,  64,\n",
       "         65,  66,  67,  68,  69,  70,  71,  72,  73,  74,  75,  76,  77,\n",
       "         78,  79,  80,  81,  82,  83,  84,  85,  86,  87,  88,  89,  90,\n",
       "         91,  92,  93,  94,  95,  96,  97,  98,  99, 100, 101, 102, 103,\n",
       "        104, 105, 106, 107, 108, 109, 110, 111, 112, 113, 114, 115, 116,\n",
       "        117, 118, 119, 120, 121, 122, 123, 124, 125, 126, 127, 128, 129,\n",
       "        130, 131, 132, 133, 134, 135, 136, 137, 138, 139, 140, 141, 142,\n",
       "        143, 144, 145, 146, 147, 148, 149, 150, 151, 152, 153, 154, 155,\n",
       "        156, 157, 158, 159, 160, 161, 162, 163, 164, 165, 166, 167, 168,\n",
       "        169, 170, 171, 172, 173, 174, 175, 176, 177, 178, 179, 180, 181,\n",
       "        182, 183, 184, 185, 186, 187, 188, 189, 190, 191, 192, 193, 194,\n",
       "        195, 196, 197, 198, 199, 200, 201, 202, 203, 204, 205, 206, 207,\n",
       "        208, 209, 210, 211, 212, 213, 214, 215, 216, 217, 218, 219, 220,\n",
       "        221, 222, 223, 224, 225, 226, 227, 228, 229, 230, 231, 232, 233,\n",
       "        234, 235, 236, 237, 238, 239, 240, 241, 242, 243, 244, 245, 246,\n",
       "        247, 248, 249, 250, 251, 252, 253, 254, 255, 256, 257, 258, 259,\n",
       "        260, 261, 262, 263], dtype=int64),)"
      ]
     },
     "execution_count": 24,
     "metadata": {},
     "output_type": "execute_result"
    }
   ],
   "source": [
    "np.nonzero(county_to_hub)"
   ]
  },
  {
   "cell_type": "code",
   "execution_count": 29,
   "metadata": {},
   "outputs": [],
   "source": [
    "roads_copy = roads.copy()\n",
    "roads_copy['c_to_h'] = c_to_h.gppd.X.to_frame()\n",
    "roads_copy = roads_copy.groupby('county').sum()"
   ]
  },
  {
   "cell_type": "code",
   "execution_count": 30,
   "metadata": {},
   "outputs": [],
   "source": [
    "roads_copy['supply'] = suppliers['supply'].copy()"
   ]
  },
  {
   "cell_type": "code",
   "execution_count": 36,
   "metadata": {},
   "outputs": [],
   "source": [
    "vio_list = []\n",
    "for index, row in roads_copy.iterrows():\n",
    "    if row['c_to_h'] > row['supply']+0.0001:\n",
    "        vio_list.append(index)"
   ]
  },
  {
   "cell_type": "code",
   "execution_count": 37,
   "metadata": {},
   "outputs": [
    {
     "data": {
      "text/html": [
       "<div>\n",
       "<style scoped>\n",
       "    .dataframe tbody tr th:only-of-type {\n",
       "        vertical-align: middle;\n",
       "    }\n",
       "\n",
       "    .dataframe tbody tr th {\n",
       "        vertical-align: top;\n",
       "    }\n",
       "\n",
       "    .dataframe thead th {\n",
       "        text-align: right;\n",
       "    }\n",
       "</style>\n",
       "<table border=\"1\" class=\"dataframe\">\n",
       "  <thead>\n",
       "    <tr style=\"text-align: right;\">\n",
       "      <th></th>\n",
       "      <th>index</th>\n",
       "      <th>distance</th>\n",
       "      <th>cost</th>\n",
       "      <th>c_to_h</th>\n",
       "      <th>supply</th>\n",
       "    </tr>\n",
       "    <tr>\n",
       "      <th>county</th>\n",
       "      <th></th>\n",
       "      <th></th>\n",
       "      <th></th>\n",
       "      <th></th>\n",
       "      <th></th>\n",
       "    </tr>\n",
       "  </thead>\n",
       "  <tbody>\n",
       "  </tbody>\n",
       "</table>\n",
       "</div>"
      ],
      "text/plain": [
       "Empty DataFrame\n",
       "Columns: [index, distance, cost, c_to_h, supply]\n",
       "Index: []"
      ]
     },
     "execution_count": 37,
     "metadata": {},
     "output_type": "execute_result"
    }
   ],
   "source": [
    "roads_copy.loc[vio_list]"
   ]
  },
  {
   "cell_type": "code",
   "execution_count": 27,
   "metadata": {},
   "outputs": [
    {
     "data": {
      "text/plain": [
       "738155301.0"
      ]
     },
     "execution_count": 27,
     "metadata": {},
     "output_type": "execute_result"
    }
   ],
   "source": [
    "sum(hub_to_plant)*232"
   ]
  },
  {
   "cell_type": "code",
   "execution_count": 28,
   "metadata": {},
   "outputs": [
    {
     "data": {
      "text/plain": [
       "11.0"
      ]
     },
     "execution_count": 28,
     "metadata": {},
     "output_type": "execute_result"
    }
   ],
   "source": [
    "sum(yhub)"
   ]
  },
  {
   "cell_type": "code",
   "execution_count": 29,
   "metadata": {},
   "outputs": [
    {
     "data": {
      "text/plain": [
       "[-0.0,\n",
       " 1.0,\n",
       " 1.0,\n",
       " -0.0,\n",
       " -0.0,\n",
       " -0.0,\n",
       " 1.0,\n",
       " -0.0,\n",
       " -0.0,\n",
       " -0.0,\n",
       " -0.0,\n",
       " 1.0,\n",
       " 1.0,\n",
       " -0.0,\n",
       " 1.0,\n",
       " -0.0,\n",
       " 1.0,\n",
       " -0.0,\n",
       " -0.0,\n",
       " -0.0,\n",
       " -0.0,\n",
       " 1.0,\n",
       " -0.0,\n",
       " -0.0,\n",
       " 1.0,\n",
       " -0.0,\n",
       " 1.0,\n",
       " -0.0,\n",
       " -0.0,\n",
       " -0.0,\n",
       " -0.0,\n",
       " 1.0,\n",
       " -0.0]"
      ]
     },
     "execution_count": 29,
     "metadata": {},
     "output_type": "execute_result"
    }
   ],
   "source": [
    "yhub"
   ]
  },
  {
   "cell_type": "code",
   "execution_count": 30,
   "metadata": {},
   "outputs": [
    {
     "data": {
      "text/plain": [
       "6.0"
      ]
     },
     "execution_count": 30,
     "metadata": {},
     "output_type": "execute_result"
    }
   ],
   "source": [
    "sum(yplant)"
   ]
  }
 ],
 "metadata": {
  "kernelspec": {
   "display_name": "Python 3",
   "language": "python",
   "name": "python3"
  },
  "language_info": {
   "codemirror_mode": {
    "name": "ipython",
    "version": 3
   },
   "file_extension": ".py",
   "mimetype": "text/x-python",
   "name": "python",
   "nbconvert_exporter": "python",
   "pygments_lexer": "ipython3",
   "version": "3.10.11"
  }
 },
 "nbformat": 4,
 "nbformat_minor": 2
}
